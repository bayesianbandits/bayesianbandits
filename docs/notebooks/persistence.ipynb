{
 "cells": [
  {
   "attachments": {},
   "cell_type": "markdown",
   "metadata": {},
   "source": [
    "# Bandit Persistence Recipes\n",
    "\n",
    "In production, it is often necessary to persist data to disk. This notebook demonstrates how Bandit subclasses can be persisted to disk, reloaded, and even redefined on the fly.\n",
    "\n",
    "First, let's create a simple subclass of `Bandit` that will be trained a little, then persisted to disk."
   ]
  },
  {
   "cell_type": "code",
   "execution_count": 1,
   "metadata": {},
   "outputs": [],
   "source": [
    "from bayesianbandits import Bandit, Arm, epsilon_greedy, GammaRegressor\n",
    "\n",
    "def reward_func(x):\n",
    "    return x\n",
    "\n",
    "est = GammaRegressor(1, 1)\n",
    "policy = epsilon_greedy()\n",
    "\n",
    "class Agent(Bandit, learner=est, policy=policy):\n",
    "    arm1 = Arm(\"Action 1\", reward_func)\n",
    "    arm2 = Arm(\"Action 2\", reward_func)\n",
    "\n",
    "agent = Agent(rng=1)"
   ]
  },
  {
   "attachments": {},
   "cell_type": "markdown",
   "metadata": {},
   "source": [
    "First, we'll pull the arm once, update, and then persist the bandit to disk."
   ]
  },
  {
   "cell_type": "code",
   "execution_count": 2,
   "metadata": {},
   "outputs": [
    {
     "name": "stdout",
     "output_type": "stream",
     "text": [
      "Learned alpha and beta for arm 1: [2. 2.]\n"
     ]
    }
   ],
   "source": [
    "agent.pull()\n",
    "agent.update(1)\n",
    "\n",
    "print(f\"Learned alpha and beta for arm 1: {agent.arm1.learner.coef_[1]}\")"
   ]
  },
  {
   "attachments": {},
   "cell_type": "markdown",
   "metadata": {},
   "source": [
    "`joblib` is a great library for persisting objects to disk. It is a dependency of `scikit-learn`, so it is already installed when installing `bayesianbandits`.\n",
    "\n",
    "As we can see, the learned state of the bandit is persisted to disk. We can reload the bandit from disk, and it will be in the same state as before."
   ]
  },
  {
   "cell_type": "code",
   "execution_count": 3,
   "metadata": {},
   "outputs": [
    {
     "name": "stdout",
     "output_type": "stream",
     "text": [
      "Learned alpha and beta for arm 1: [2. 2.]\n"
     ]
    }
   ],
   "source": [
    "import joblib\n",
    "\n",
    "joblib.dump(agent, \"agent.pkl\")\n",
    "\n",
    "loaded = joblib.load(\"agent.pkl\")\n",
    "\n",
    "print(f\"Learned alpha and beta for arm 1: {loaded.arm1.learner.coef_[1]}\")"
   ]
  },
  {
   "attachments": {},
   "cell_type": "markdown",
   "metadata": {},
   "source": [
    "After being reloaded, the bandit can be used as normal."
   ]
  },
  {
   "cell_type": "code",
   "execution_count": 4,
   "metadata": {},
   "outputs": [
    {
     "name": "stdout",
     "output_type": "stream",
     "text": [
      "Learned alpha and beta for arm 1: [2. 2.]\n",
      "Learned alpha and beta for arm 2: [1. 2.]\n"
     ]
    },
    {
     "data": {
      "text/plain": [
       "['agent.pkl']"
      ]
     },
     "execution_count": 4,
     "metadata": {},
     "output_type": "execute_result"
    }
   ],
   "source": [
    "loaded.pull()\n",
    "loaded.update(0)\n",
    "\n",
    "print(f\"Learned alpha and beta for arm 1: {loaded.arm1.learner.coef_[1]}\")\n",
    "print(f\"Learned alpha and beta for arm 2: {loaded.arm2.learner.coef_[1]}\")\n",
    "\n",
    "joblib.dump(loaded, \"agent.pkl\")"
   ]
  },
  {
   "attachments": {},
   "cell_type": "markdown",
   "metadata": {},
   "source": [
    "After your learning session has gone on for some time, you may get an idea for a new arm. You want to try it out, but you don't want to lose the state of the bandit you've already learned. Fortunately, you can just redefine the `Bandit` subclass definition and reload the bandit from disk. Any arms in the new definition will be initialized when the bandit is reloaded.\n",
    "\n",
    "Note that the learned state of arm 1 is preserved. "
   ]
  },
  {
   "cell_type": "code",
   "execution_count": 5,
   "metadata": {},
   "outputs": [
    {
     "name": "stdout",
     "output_type": "stream",
     "text": [
      "Learned alpha and beta for arm 1: [2. 2.]\n",
      "Learned alpha and beta for arm 2: [1. 2.]\n",
      "Arms: dict_keys(['arm1', 'arm2', 'arm3'])\n"
     ]
    }
   ],
   "source": [
    "def action3():\n",
    "    print(\"action3\")\n",
    "\n",
    "class Agent(Bandit, learner=est, policy=policy):\n",
    "    arm1 = Arm(\"Action 1\", reward_func)\n",
    "    arm2 = Arm(\"Action 2\", reward_func)\n",
    "    arm3 = Arm(\"Action 3\", reward_func)\n",
    "\n",
    "loaded_with_new_def = joblib.load(\"agent.pkl\")\n",
    "\n",
    "print(f\"Learned alpha and beta for arm 1: {loaded_with_new_def.arm1.learner.coef_[1]}\")\n",
    "print(f\"Learned alpha and beta for arm 2: {loaded_with_new_def.arm2.learner.coef_[1]}\")\n",
    "\n",
    "print(f\"Arms: {loaded_with_new_def.arms.keys()}\")"
   ]
  },
  {
   "attachments": {},
   "cell_type": "markdown",
   "metadata": {},
   "source": [
    "Again, the bandit can be used as normal."
   ]
  },
  {
   "cell_type": "code",
   "execution_count": 6,
   "metadata": {},
   "outputs": [
    {
     "name": "stdout",
     "output_type": "stream",
     "text": [
      "Learned alpha and beta for arm 1: [2. 3.]\n",
      "Learned alpha and beta for arm 2: [1. 2.]\n",
      "Learned alpha and beta for arm 2: [1. 1.]\n"
     ]
    },
    {
     "data": {
      "text/plain": [
       "['agent.pkl']"
      ]
     },
     "execution_count": 6,
     "metadata": {},
     "output_type": "execute_result"
    }
   ],
   "source": [
    "loaded_with_new_def.pull()\n",
    "loaded_with_new_def.update(0)\n",
    "\n",
    "print(f\"Learned alpha and beta for arm 1: {loaded_with_new_def.arm1.learner.coef_[1]}\")\n",
    "print(f\"Learned alpha and beta for arm 2: {loaded_with_new_def.arm2.learner.coef_[1]}\")\n",
    "print(f\"Learned alpha and beta for arm 2: {loaded_with_new_def.arm3.learner.coef_[1]}\")\n",
    "\n",
    "joblib.dump(loaded_with_new_def, \"agent.pkl\")"
   ]
  },
  {
   "attachments": {},
   "cell_type": "markdown",
   "metadata": {},
   "source": [
    "Now, you may decide that `arm2` is not a good arm, and you want to remove it from the bandit. You can do this by redefining the `Bandit` subclass definition and reloading the bandit from disk. Any arms in the `Bandit` instance that are not in the new definition will be removed when the bandit is reloaded. \n",
    "\n",
    "Note that this is a destructive operation upon re-serialization, and the learned state of arm 1 is lost forever!"
   ]
  },
  {
   "cell_type": "code",
   "execution_count": 7,
   "metadata": {},
   "outputs": [
    {
     "name": "stdout",
     "output_type": "stream",
     "text": [
      "Arms: dict_keys(['arm1', 'arm2', 'arm3'])\n",
      "Learned alpha and beta for arm 1: [2. 3.]\n",
      "Learned alpha and beta for arm 3: [1. 1.]\n"
     ]
    }
   ],
   "source": [
    "class Agent(Bandit, learner=est, policy=policy):\n",
    "    arm1 = Arm(\"Action 1\", reward_func)\n",
    "    arm3 = Arm(\"Action 3\", reward_func)\n",
    "\n",
    "loaded_with_removed_arm = joblib.load(\"agent.pkl\")\n",
    "\n",
    "print(f\"Arms: {loaded_with_new_def.arms.keys()}\")\n",
    "\n",
    "print(f\"Learned alpha and beta for arm 1: {loaded_with_removed_arm.arm1.learner.coef_[1]}\")\n",
    "print(f\"Learned alpha and beta for arm 3: {loaded_with_removed_arm.arm3.learner.coef_[1]}\")\n",
    "\n"
   ]
  }
 ],
 "metadata": {
  "kernelspec": {
   "display_name": "bayesianbandits",
   "language": "python",
   "name": "python3"
  },
  "language_info": {
   "codemirror_mode": {
    "name": "ipython",
    "version": 3
   },
   "file_extension": ".py",
   "mimetype": "text/x-python",
   "name": "python",
   "nbconvert_exporter": "python",
   "pygments_lexer": "ipython3",
   "version": "3.9.16"
  },
  "orig_nbformat": 4,
  "vscode": {
   "interpreter": {
    "hash": "e3f36ddb09a06456251074df3dec102b3bd93f6018f69cb4fcf09d3aff836ef2"
   }
  }
 },
 "nbformat": 4,
 "nbformat_minor": 2
}
