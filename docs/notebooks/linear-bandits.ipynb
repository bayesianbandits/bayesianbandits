{
 "cells": [
  {
   "attachments": {},
   "cell_type": "markdown",
   "metadata": {},
   "source": [
    "# A Bayesian Take on Linear Bandits and Disjoint LinUCB\n",
    "\n",
    "Linear bandits are useful for solving problems where the reward is a linear function of the context. In this notebook, we will see how the building blocks provided in `bayesianbandits` can be used to solve a linear bandits problem, specifically by implementing a Bayesian version of the disjoint LinUCB algorithm from [1]. We'll simulate a situation very similar to the one described in the paper, where we have a set of users with some known context, and a set of articles that we want to recommend to them. We can represent what we know about the users as the context to a multi-armed bandit problem, and the articles as the arms. The reward for each arm is the click-through rate (CTR) of that article for that user. We can then use the Bayesian version of LinUCB to recommend articles to users.\n",
    "\n",
    "[1] Lihong Li, Wei Chu, John Langford, and Robert E. Schapire. A contextual-bandit approach to personalized news article recommendation. Proceedings of the 19th international conference on World Wide Web, pages 661–670. ACM, 2010.\n",
    "\n",
    "## What should we recommend on the \"Featured\" section of our website?\n",
    "\n",
    "Imagine the landing page of our website has a \"Featured\" section, where we highlight a single article. We want to recommend the article that will get the most clicks. We can model this as a multi-armed bandit problem, where the context is the user, and the arms are the articles.\n",
    "\n",
    "## Simulating the problem\n",
    "\n",
    "We'll create a `ClickthroughOracle` object that returns the click-through rate (CTR) of an article for a given user. We'll use the `ClickthroughOracle` to simulate a user clicking on an article. We'll also create a `Bandit` subclass that will use the `ClickthroughOracle` to simulate the reward for each arm.\n"
   ]
  },
  {
   "cell_type": "code",
   "execution_count": 1,
   "metadata": {},
   "outputs": [],
   "source": [
    "import numpy as np\n",
    "from scipy.special import expit\n",
    "\n",
    "\n",
    "class ClickthroughOracle:\n",
    "    def __init__(self):\n",
    "        self.context = None\n",
    "        self.rewards = []  # bernoulli outcome of the clickthrough\n",
    "        self.optimal_rewards = []  # p of the optimal article for the given context\n",
    "        self.expected_rewards = []  # p of the article chosen for the given context\n",
    "\n",
    "        self.article_coefs = np.array(\n",
    "            [\n",
    "                [-0.4, 0.005, 0.1],\n",
    "                [-0.8, 0.0, 0.0],\n",
    "                [-0.3, -0.005, 0.0],\n",
    "                [0.1, 0.0, -0.5],\n",
    "            ]\n",
    "        )\n",
    "\n",
    "    def set_context(self, context):\n",
    "        # the context will consist of a numerical age column,\n",
    "        # a one-hot encoded gender column.\n",
    "        self.context = context\n",
    "\n",
    "    def generate_reward(self, _coef):\n",
    "        p = expit(np.dot(self.context, _coef))\n",
    "        reward = np.random.binomial(1, p)\n",
    "        self.rewards.append(reward)\n",
    "        self.expected_rewards.append(p)\n",
    "        return reward\n",
    "\n",
    "    def best_expected_reward(self):\n",
    "        self.optimal_rewards.append(\n",
    "            np.max(expit(np.dot(self.context, self.article_coefs.T)))\n",
    "        )\n",
    "\n",
    "    def article_1(self):\n",
    "        # article that really appeals to older men\n",
    "        return self.generate_reward(self.article_coefs[0])\n",
    "\n",
    "    def article_2(self):\n",
    "        # article that nobody really likes\n",
    "        return self.generate_reward(self.article_coefs[1])\n",
    "\n",
    "    def article_3(self):\n",
    "        # article that younger people like, but is equally enjoyed by any gender\n",
    "        return self.generate_reward(self.article_coefs[2])\n",
    "\n",
    "    def article_4(self):\n",
    "        # article that women of all ages like\n",
    "        return self.generate_reward(self.article_coefs[3])\n",
    "\n",
    "\n",
    "oracle = ClickthroughOracle()\n"
   ]
  },
  {
   "attachments": {},
   "cell_type": "markdown",
   "metadata": {},
   "source": [
    "We want to use the Bayesian version of LinUCB to recommend articles to users. This is done, in part, by setting the underlying model to be a Bayesian linear regression model. We'll use the `NormalInverseGammaRegressor` class to do this. \n",
    "\n",
    "The default constructor arguments for `NormalInverseGammaRegressor` will give us a prior that is a normal distribution with mean 0 and variance 1, which corresponds to a ridge regression model. This is actually a problem for our use case, as our rewards will be either 0 or 1. There are a number of ways we can fix this, but the simplest is to center the rewards at 0 by subtracting 0.5 from them.\n",
    "\n",
    "We can also set the `lam` parameter to 4, which corresponds to the ridge regression parameter `alpha` in scikit-learn. This regularizes the model coefficients more strongly toward 0, which is useful as we know that they are unlikely to be greater than or less than 1.\n",
    "\n",
    "Additionally, we'll set our choice policy to be the `upper_confidence_bound` policy, which will choose the arm with the highest upper confidence bound. We'll also set the `alpha` parameter to be 0.80, somewhat arbitrarily. This parameter controls the trade-off between exploration and exploitation. A higher value of `alpha` will lead to more exploration, and a lower value will lead to more exploitation."
   ]
  },
  {
   "attachments": {},
   "cell_type": "markdown",
   "metadata": {},
   "source": [
    "Next, we'll define our action space and reward function. The action space will be the set of articles, and the reward function will be whether or not the user clicked on the article."
   ]
  },
  {
   "cell_type": "code",
   "execution_count": 2,
   "metadata": {},
   "outputs": [],
   "source": [
    "from enum import Enum\n",
    "\n",
    "class Article(Enum):\n",
    "    article_1 = 1\n",
    "    article_2 = 2\n",
    "    article_3 = 3\n",
    "    article_4 = 4\n",
    "\n",
    "    def take_action(self, oracle: ClickthroughOracle):\n",
    "        if self == Article.article_1:\n",
    "            return oracle.article_1()\n",
    "        elif self == Article.article_2:\n",
    "            return oracle.article_2()\n",
    "        elif self == Article.article_3:\n",
    "            return oracle.article_3()\n",
    "        elif self == Article.article_4:\n",
    "            return oracle.article_4()\n",
    "        else:\n",
    "            raise ValueError(\"invalid param\")"
   ]
  },
  {
   "attachments": {},
   "cell_type": "markdown",
   "metadata": {},
   "source": [
    "Next, we'll create a `Bandit` subclass that has the four articles as arms. Linear bandits are inherently contextual, so we'll need to use to `@contextual` decorator. "
   ]
  },
  {
   "cell_type": "code",
   "execution_count": 3,
   "metadata": {},
   "outputs": [],
   "source": [
    "from bayesianbandits import (\n",
    "    Arm,\n",
    "    NormalInverseGammaRegressor,\n",
    ")\n",
    "from bayesianbandits.api import (\n",
    "    ContextualAgent,\n",
    "    UpperConfidenceBound\n",
    ")\n",
    "\n",
    "arms = [\n",
    "    Arm(Article.article_1, learner=NormalInverseGammaRegressor()),\n",
    "    Arm(Article.article_2, learner=NormalInverseGammaRegressor()),\n",
    "    Arm(Article.article_3, learner=NormalInverseGammaRegressor()),\n",
    "    Arm(Article.article_4, learner=NormalInverseGammaRegressor()),\n",
    "]\n",
    "\n"
   ]
  },
  {
   "attachments": {},
   "cell_type": "markdown",
   "metadata": {},
   "source": [
    "Let's run the bandit for 5000 iterations, and see how well it does. We'll plot the cumulative reward over time to visualize how quickly the bandit learns to recommend the best article for each user.\n",
    "\n",
    "Note that this step can be slow, depending on the number of samples being used to estimate the posterior. If you want to speed things up, you can reduce the number of samples used to estimate the posterior by setting the `samples` parameter in the `upper_confidence_bound` function. This highlights the connection between Thompson sampling and the UCB algorithm - both are strategies that bake the uncertainty of the posterior into the point estimate of the reward used to choose the arm. In the limiting case where the number of samples is 1, the UCB algorithm reduces to Thompson sampling."
   ]
  },
  {
   "cell_type": "code",
   "execution_count": 4,
   "metadata": {},
   "outputs": [],
   "source": [
    "agent = ContextualAgent(\n",
    "    arms=arms,\n",
    "    policy=UpperConfidenceBound(0.95),\n",
    ")\n",
    "\n",
    "np.random.seed(111)\n",
    "\n",
    "for _ in range(5000):\n",
    "\n",
    "    user_gender = np.random.binomial(1, 0.5) # 0 corresponds to female\n",
    "    user_age = np.random.randint(0, 47) # 0 corresponds to age 18\n",
    "\n",
    "    context = np.array([1.0, user_age, user_gender])\n",
    "\n",
    "    oracle.set_context(context)\n",
    "    oracle.best_expected_reward()\n",
    "\n",
    "    action, = agent.pull(np.atleast_2d(context))\n",
    "    action.take_action(oracle)\n",
    "    agent.update(context, oracle.rewards[-1] - 0.5)\n",
    "\n",
    "    "
   ]
  },
  {
   "attachments": {},
   "cell_type": "markdown",
   "metadata": {},
   "source": [
    "We can see that the bandit quickly learns to recommend the best article for each user and clearly achieves sublinear regret. This demonstrates that LinUCB (and linear bandits in general) are able to learn reward structures that are definitely not normally distributed. This is because we don't actually need to know the distribution of the reward, we only need to know the mean and variance of the `Agent`'s belief about the reward. \n",
    "\n",
    "In other words, we care about the posterior distribution of the coefficients of the linear model, not the posterior predictive distribution of the reward. With sufficient data, the posterior distribution of the coefficients will always look locally normal (this is known as the Bernstein-von Mises theorem). This is the basis of the Laplace approximation."
   ]
  },
  {
   "cell_type": "code",
   "execution_count": 5,
   "metadata": {},
   "outputs": [
    {
     "data": {
      "text/plain": [
       "<matplotlib.legend.Legend at 0x2aa4e89d0>"
      ]
     },
     "execution_count": 5,
     "metadata": {},
     "output_type": "execute_result"
    },
    {
     "data": {
      "image/png": "[encoded data removed]",
      "text/plain": [
       "<Figure size 640x480 with 1 Axes>"
      ]
     },
     "metadata": {},
     "output_type": "display_data"
    }
   ],
   "source": [
    "import matplotlib.pyplot as plt\n",
    "\n",
    "linucb_regret = np.cumsum(\n",
    "    np.array(oracle.optimal_rewards) - np.array(oracle.expected_rewards)\n",
    ")\n",
    "\n",
    "plt.plot(linucb_regret, label=\"LinUCB\")\n",
    "plt.xlabel(\"Round\")\n",
    "plt.ylabel(\"Cumulative Regret\")\n",
    "\n",
    "plt.legend()\n"
   ]
  },
  {
   "attachments": {},
   "cell_type": "markdown",
   "metadata": {},
   "source": [
    "`upper_confidence_bound` is not guaranteed to do well, and can often involve fine-tuning the `alpha` parameter. Instead, we may want to use the `thompson_sampling` policy, which does not require any tuning."
   ]
  },
  {
   "cell_type": "code",
   "execution_count": 6,
   "metadata": {},
   "outputs": [],
   "source": [
    "from bayesianbandits.api import ThompsonSampling\n",
    "\n",
    "thompson_oracle = ClickthroughOracle()\n",
    "\n",
    "thompson_agent = ContextualAgent(\n",
    "    arms=[\n",
    "        Arm(Article.article_1, learner=NormalInverseGammaRegressor()),\n",
    "        Arm(Article.article_2, learner=NormalInverseGammaRegressor()),\n",
    "        Arm(Article.article_3, learner=NormalInverseGammaRegressor()),\n",
    "        Arm(Article.article_4, learner=NormalInverseGammaRegressor()),\n",
    "    ],\n",
    "    policy=ThompsonSampling(),\n",
    ")\n",
    "\n"
   ]
  },
  {
   "attachments": {},
   "cell_type": "markdown",
   "metadata": {},
   "source": [
    "Much as we did with the UCB algorithm, we'll run the bandit for 5000 iterations, and plot the cumulative regret over time."
   ]
  },
  {
   "cell_type": "code",
   "execution_count": 7,
   "metadata": {},
   "outputs": [],
   "source": [
    "np.random.seed(111)\n",
    "\n",
    "for _ in range(5000):\n",
    "\n",
    "    user_gender = np.random.binomial(1, 0.5) # 0 corresponds to female\n",
    "    user_age = np.random.randint(0, 47) # 0 corresponds to age 18\n",
    "\n",
    "    context = np.array([1.0, user_age, user_gender])\n",
    "\n",
    "    thompson_oracle.set_context(context)\n",
    "    thompson_oracle.best_expected_reward()\n",
    "\n",
    "    action, = thompson_agent.pull(context)\n",
    "    action.take_action(thompson_oracle)\n",
    "    thompson_agent.update(context, thompson_oracle.rewards[-1] - 0.5)\n"
   ]
  },
  {
   "attachments": {},
   "cell_type": "markdown",
   "metadata": {},
   "source": [
    "We can see that both the UCB and Thompson sampling algorithms achieve sublinear regret, though LinUCB does quite a bit better for this realization of the problem.\n",
    "\n",
    "At the end of the day, the choice of algorithm depends on the problem at hand. Thompson sampling is known to do fairly well in practice for a wide variety of problems, but UCB is also a good choice. The relative performance of these two algorithms often depends on the choice of prior, as well, which is a topic for another notebook."
   ]
  },
  {
   "cell_type": "code",
   "execution_count": 8,
   "metadata": {},
   "outputs": [
    {
     "data": {
      "text/plain": [
       "<matplotlib.legend.Legend at 0x2ac15fe20>"
      ]
     },
     "execution_count": 8,
     "metadata": {},
     "output_type": "execute_result"
    },
    {
     "data": {
      "image/png": "[encoded data removed]",
      "text/plain": [
       "<Figure size 640x480 with 1 Axes>"
      ]
     },
     "metadata": {},
     "output_type": "display_data"
    }
   ],
   "source": [
    "thompson_regret = np.cumsum(\n",
    "    np.array(thompson_oracle.optimal_rewards) - np.array(thompson_oracle.expected_rewards)\n",
    ")\n",
    "\n",
    "plt.plot(linucb_regret, label=\"LinUCB\")\n",
    "plt.plot(thompson_regret, label=\"Thompson Sampling\")\n",
    "\n",
    "plt.xlabel(\"Round\")\n",
    "plt.ylabel(\"Cumulative Regret\")\n",
    "\n",
    "plt.legend()\n"
   ]
  }
 ],
 "metadata": {
  "kernelspec": {
   "display_name": "bayesianbandits",
   "language": "python",
   "name": "python3"
  },
  "language_info": {
   "codemirror_mode": {
    "name": "ipython",
    "version": 3
   },
   "file_extension": ".py",
   "mimetype": "text/x-python",
   "name": "python",
   "nbconvert_exporter": "python",
   "pygments_lexer": "ipython3",
   "version": "3.9.18"
  },
  "orig_nbformat": 4,
  "vscode": {
   "interpreter": {
    "hash": "e3f36ddb09a06456251074df3dec102b3bd93f6018f69cb4fcf09d3aff836ef2"
   }
  }
 },
 "nbformat": 4,
 "nbformat_minor": 2
}
