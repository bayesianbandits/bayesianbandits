{
 "cells": [
  {
   "attachments": {},
   "cell_type": "markdown",
   "metadata": {},
   "source": [
    "# Contextual Bandits for Count Data\n",
    "\n",
    "Let's look at how UCB can be used to make the exploit-explore tradeoff for another plausible business problem.\n",
    "\n",
    "### Maximizing Web Storefront Transactions per Week\n",
    "\n",
    "Imagine we have a web storefront for which we want to maximize transactions per week. To do so, our design team has come up with a new layout that they claim will be more effective, but will it? This is an example of a two-armed bandit, but in contrast to the Bernoulli bandit, we are trying to maximize a count variable. \n",
    "\n",
    "Mathematically speaking, we will receive a count reward with the form $\\textrm{Reward}_k \\sim \\textrm{Poisson}(\\lambda _k)$.\n",
    "\n",
    "### Simulating the Problem\n",
    "\n",
    "We'll create a blackbox `VisitorOracle` class that represents the transaction information we get from our storefront at the end of each week. We'll again intentionally set it up such that the new action has a small but real lift over the status quo."
   ]
  },
  {
   "cell_type": "code",
   "execution_count": 1,
   "metadata": {},
   "outputs": [],
   "source": [
    "from typing import List\n",
    "\n",
    "import numpy as np\n",
    "\n",
    "\n",
    "class VisitorOracle:\n",
    "\n",
    "    def __init__(self, n: float, m: float):\n",
    "        self.n = n\n",
    "        self.m = m\n",
    "\n",
    "        self.rewards: List[int] = []\n",
    "\n",
    "    def status_quo_action(self):\n",
    "        self.rewards.append(np.random.poisson(self.n))\n",
    "\n",
    "    def new_proposal_action(self):\n",
    "        self.rewards.append(np.random.poisson(self.m))\n",
    "\n",
    "two_armed_bandit = VisitorOracle(20, 25)"
   ]
  },
  {
   "attachments": {},
   "cell_type": "markdown",
   "metadata": {},
   "source": [
    "### Setting up the learner\n",
    "\n",
    "`bayesianbandits` makes a `GammaRegressor` class available to perform conjugate prior Bayesian inference on count data. This time, we'll use a fairly informative prior - presumably, we have plenty of knowledge about historical transaction data for our storefront, so we'd be able to use that to pick a reasonable prior. "
   ]
  },
  {
   "attachments": {},
   "cell_type": "markdown",
   "metadata": {},
   "source": [
    "First, we define our action structure."
   ]
  },
  {
   "cell_type": "code",
   "execution_count": 2,
   "metadata": {},
   "outputs": [],
   "source": [
    "from enum import Enum\n",
    "\n",
    "\n",
    "class VisitorActions(Enum):\n",
    "    STATUS_QUO = 0\n",
    "    NEW_PROPOSAL = 1\n",
    "\n",
    "    def take_action(self, visitor: VisitorOracle):\n",
    "        if self == VisitorActions.STATUS_QUO:\n",
    "            visitor.status_quo_action()\n",
    "        elif self == VisitorActions.NEW_PROPOSAL:\n",
    "            visitor.new_proposal_action()"
   ]
  },
  {
   "attachments": {},
   "cell_type": "markdown",
   "metadata": {},
   "source": [
    "And our `Agent` instance. This time, we'll be using the `upper_confidence_bound` algorithm, which uses the upper bound of a credible interval to pick which arm to pull. Somewhat arbitrarily, we'll pick a one-sided 84% credible interval, which corresponds roughly to a $\\mu + \\sigma$ interval, given a normally-distributed posterior. "
   ]
  },
  {
   "cell_type": "code",
   "execution_count": 3,
   "metadata": {},
   "outputs": [],
   "source": [
    "from bayesianbandits import Agent, Arm, GammaRegressor, UpperConfidenceBound\n",
    "\n",
    "arms = [\n",
    "    Arm(VisitorActions.STATUS_QUO, learner=GammaRegressor(alpha=20, beta=1)),\n",
    "    Arm(VisitorActions.NEW_PROPOSAL, learner=GammaRegressor(alpha=20, beta=1)),\n",
    "]\n",
    "\n",
    "agent = Agent(arms=arms, policy=UpperConfidenceBound(0.84))"
   ]
  },
  {
   "attachments": {},
   "cell_type": "markdown",
   "metadata": {},
   "source": [
    "Now, let's simulate some learning. We'll say we want to run this experiment for a quarter, or 13 weeks."
   ]
  },
  {
   "cell_type": "code",
   "execution_count": 4,
   "metadata": {},
   "outputs": [],
   "source": [
    "for _ in range(13):\n",
    "    action_token, = agent.pull()\n",
    "    action_token.take_action(two_armed_bandit)\n",
    "    agent.update(np.array([two_armed_bandit.rewards[-1]]))"
   ]
  },
  {
   "attachments": {},
   "cell_type": "markdown",
   "metadata": {},
   "source": [
    "Indeed, we see that our agent identifies the new proposed arm as the better option and spent more time pulling it. "
   ]
  },
  {
   "cell_type": "code",
   "execution_count": 5,
   "metadata": {},
   "outputs": [
    {
     "data": {
      "image/png": "[encoded data removed]",
      "text/plain": [
       "<Figure size 640x480 with 1 Axes>"
      ]
     },
     "metadata": {},
     "output_type": "display_data"
    }
   ],
   "source": [
    "import matplotlib.pyplot as plt\n",
    "\n",
    "plt.hist(\n",
    "    agent.arms[0].sample(np.array([[1]]), size=5000),\n",
    "    alpha=0.8,\n",
    "    label=\"status quo arm\",\n",
    "    density=True,\n",
    "    stacked=True,\n",
    "    bins=100\n",
    ")\n",
    "plt.hist(\n",
    "    agent.arms[1].sample(np.array([[1]]), size=5000),\n",
    "    alpha=0.8,\n",
    "    label=\"new proposal arm\",\n",
    "    density=True,\n",
    "    stacked=True,\n",
    "    bins=100\n",
    ")\n",
    "\n",
    "plt.xlabel(\"Mean Reward\")\n",
    "plt.ylabel(\"Frequency\")\n",
    "\n",
    "plt.legend()\n",
    "\n",
    "plt.show()\n"
   ]
  },
  {
   "attachments": {},
   "cell_type": "markdown",
   "metadata": {},
   "source": [
    "As happy as we might be about the above results, our happiness is dashed when our marketing team comes to us with brand-new market research suggesting that our customers actually fall into two major demographics, each of which may have a different reaction to our proposed website layouts. This is an example of a contextual multi-armed bandit problem - in addition to being presented with a choice, we get some information about the choice we'd like to incorporate into our decision making.\n",
    "\n",
    "Fortunately, `bayesianbandits` can handle contextual bandits with the `@contextual` decorator."
   ]
  },
  {
   "cell_type": "code",
   "execution_count": 6,
   "metadata": {},
   "outputs": [],
   "source": [
    "from bayesianbandits import ContextualAgent\n",
    "\n",
    "contextual_bandit = VisitorOracle(20, 25)\n",
    "\n",
    "context_arms = [\n",
    "    Arm(VisitorActions.STATUS_QUO, learner=GammaRegressor(alpha = 20, beta = 1)),\n",
    "    Arm(VisitorActions.NEW_PROPOSAL, learner=GammaRegressor(alpha = 20, beta = 1)),\n",
    "]\n",
    "\n",
    "\n",
    "context_aware_agent = ContextualAgent(arms=context_arms, policy=UpperConfidenceBound(0.84))"
   ]
  },
  {
   "attachments": {},
   "cell_type": "markdown",
   "metadata": {},
   "source": [
    "This time, let's say that the `X = 1` demographic has a positive reaction to our proposed layout, but the `X = 0` demographic reacts negatively. By giving the context information to the agent during the `pull` and `update` phases, it will learn which action works best in each context.\n",
    "\n",
    "Let's simulate another year of data."
   ]
  },
  {
   "cell_type": "code",
   "execution_count": 7,
   "metadata": {},
   "outputs": [],
   "source": [
    "for _ in range(52):\n",
    "\n",
    "    X = np.atleast_2d(np.random.randint(0, 2))\n",
    "    \n",
    "    if X == 1:\n",
    "        contextual_bandit.n = 20\n",
    "        contextual_bandit.m = 25\n",
    "    else:\n",
    "        contextual_bandit.n = 20\n",
    "        contextual_bandit.m = 18\n",
    "\n",
    "    action, = context_aware_agent.pull(X)\n",
    "    action.take_action(contextual_bandit)\n",
    "    context_aware_agent.update(X, np.atleast_1d(contextual_bandit.rewards[-1]))\n",
    "\n"
   ]
  },
  {
   "attachments": {},
   "cell_type": "markdown",
   "metadata": {},
   "source": [
    "By plotting what our Agent has learned about each arm, we can see that it has correctly identified that in context 0, the status quo arm is most rewarding, while in context 1, the new proposed arm is most rewarding. "
   ]
  },
  {
   "cell_type": "code",
   "execution_count": 8,
   "metadata": {},
   "outputs": [
    {
     "data": {
      "image/png": "[encoded data removed]",
      "text/plain": [
       "<Figure size 1200x500 with 2 Axes>"
      ]
     },
     "metadata": {},
     "output_type": "display_data"
    }
   ],
   "source": [
    "import matplotlib.pyplot as plt\n",
    "\n",
    "fig, ax = plt.subplots(1, 2, figsize=(12, 5))\n",
    "\n",
    "ax[0].hist(\n",
    "    context_aware_agent.arms[0].sample(np.array([[0]]), size=5000),\n",
    "    alpha=0.8,\n",
    "    label=\"status quo arm\",\n",
    "    density=True,\n",
    "    stacked=True,\n",
    "    bins=100\n",
    ")\n",
    "ax[0].hist(\n",
    "    context_aware_agent.arms[1].sample(np.array([[0]]), size=5000),\n",
    "    alpha=0.8,\n",
    "    label=\"new proposal arm\",\n",
    "    density=True,\n",
    "    stacked=True,\n",
    "    bins=100\n",
    ")\n",
    "\n",
    "ax[0].set_xlabel(\"Mean Reward\")\n",
    "ax[0].set_ylabel(\"Frequency\")\n",
    "ax[0].set_title(\"Context 0\")\n",
    "\n",
    "ax[0].legend()\n",
    "\n",
    "ax[1].hist(\n",
    "    context_aware_agent.arms[0].sample(np.array([[1]]), size=5000),\n",
    "    alpha=0.8,\n",
    "    label=\"status quo arm\",\n",
    "    density=True,\n",
    "    stacked=True,\n",
    "    bins=100\n",
    ")\n",
    "ax[1].hist(\n",
    "    context_aware_agent.arms[1].sample(np.array([[1]]), size=5000),\n",
    "    alpha=0.8,\n",
    "    label=\"new proposal arm\",\n",
    "    density=True,\n",
    "    stacked=True,\n",
    "    bins=100\n",
    ")\n",
    "\n",
    "ax[1].set_xlabel(\"Mean Reward\")\n",
    "ax[1].set_title(\"Context 1\")\n",
    "\n",
    "plt.show()"
   ]
  }
 ],
 "metadata": {
  "kernelspec": {
   "display_name": ".venv",
   "language": "python",
   "name": "python3"
  },
  "language_info": {
   "codemirror_mode": {
    "name": "ipython",
    "version": 3
   },
   "file_extension": ".py",
   "mimetype": "text/x-python",
   "name": "python",
   "nbconvert_exporter": "python",
   "pygments_lexer": "ipython3",
   "version": "3.10.16"
  },
  "orig_nbformat": 4
 },
 "nbformat": 4,
 "nbformat_minor": 2
}
