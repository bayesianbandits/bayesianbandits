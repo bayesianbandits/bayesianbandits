{
 "cells": [
  {
   "attachments": {},
   "cell_type": "markdown",
   "metadata": {},
   "source": [
    "# Thompson Sampling and the Bernoulli Bandit\n",
    "\n",
    "Let's explore Thompson sampling as a simple strategy for balancing exploration and exploitation in a (sort of) real-world setting. We'll do this in the simple situation of the two-armed Bernoulli bandit.\n",
    "\n",
    "### Optimizing Click-Through Rates\n",
    "\n",
    "Imagine we are trying to compare some proposed process with our current status quo. For example, maybe we're trying to determine if a new e-mail newsletter layout drives click-throughs to our website more often than the layout we're currently using. This problem is an example of a two-armed bandit - we have a choice between two \"arms\" and we want to discover and select the arm that has the maximum reward. More to the point, we want to balance exploration (determining which arm is the best) and exploitation (pulling the arm that we believe is best) to maximize cumulative payoff. \n",
    "\n",
    "After taking each action, we receive a binary reward with the form $\\textrm{Reward}_k \\sim \\textrm{Bernoulli}(\\theta _k)$. This is a simple situation to simulate and does reasonably well approximate many real-world bandit problems, where the only two measurable outcomes are success or failure. \n",
    "\n",
    "### Simulating the Problem\n",
    "\n",
    "In order to somewhat approximate reality, let's create a blackbox `EmailOracle` class that represents the information we get about each email view after we send it. Practically speaking, this may be information that lives in analytics database that we need to query, but in this case we'll have it print either `T` or `F` to console, where `T` represents an email view that converted to a click-through. \n",
    "\n",
    "We'll intentionally set it up such that the new action has a small but real lift over the status quo, so ideally our online learning algorithm can identify it as the better option."
   ]
  },
  {
   "cell_type": "code",
   "execution_count": 1,
   "metadata": {},
   "outputs": [],
   "source": [
    "import numpy as np\n",
    "from numpy.typing import NDArray\n",
    "\n",
    "\n",
    "class EmailOracle:\n",
    "    def __init__(self, a: float, b: float):\n",
    "        self.a = a\n",
    "        self.b = b\n",
    "\n",
    "    def status_quo_action(self):\n",
    "        print([\"F\", \"T\"][np.random.binomial(1, self.a)])\n",
    "\n",
    "    def new_proposed_action(self):\n",
    "        print([\"F\", \"T\"][np.random.binomial(1, self.b)])\n",
    "\n",
    "\n",
    "two_armed_bandit = EmailOracle(0.05, 0.08)\n"
   ]
  },
  {
   "attachments": {},
   "cell_type": "markdown",
   "metadata": {},
   "source": [
    "### Setting up the learning agent\n",
    "\n",
    "Next, we can use the `bayesianbandits` library to set up a learning agent. First, let's define a learner that will accumulate our best knowledge regarding each arm. Because this is a Bernoulli bandit, we'll use a Dirichlet (multivariate beta) classifier. Because the Dirichlet distribution is the conjugate prior to the Binomial and Multinomial distributions, it will be simple to compute an analytical Bayesian update after each arm pull.\n",
    "\n",
    "In regards to priors, we'll choose an uninformative $\\textrm{Dirichlet}(0.5, 0.5)$ prior, which essentially encodes that we believe either email may be better, but we have no idea how good either will be. "
   ]
  },
  {
   "cell_type": "code",
   "execution_count": 2,
   "metadata": {},
   "outputs": [],
   "source": [
    "from bayesianbandits import DirichletClassifier\n",
    "\n",
    "clf = DirichletClassifier(alphas={\"T\": 0.5, \"F\": 0.5})\n",
    "\n"
   ]
  },
  {
   "attachments": {},
   "cell_type": "markdown",
   "metadata": {},
   "source": [
    "\n",
    "Additionally, we need to define functions that represent the action space and function(s) to compute reward. Because we consider an output of `T` a success and an output of `F` a failure, we'll have our reward function return the value of the `T` column of our `clf.classes_` array. "
   ]
  },
  {
   "cell_type": "code",
   "execution_count": 3,
   "metadata": {},
   "outputs": [],
   "source": [
    "from enum import Enum\n",
    "\n",
    "class EmailActions(Enum):\n",
    "    STATUS_QUO = 0\n",
    "    NEW_PROPOSAL = 1\n",
    "\n",
    "    def take_action(self, email: EmailOracle):\n",
    "        if self == EmailActions.STATUS_QUO:\n",
    "            email.status_quo_action()\n",
    "        elif self == EmailActions.NEW_PROPOSAL:\n",
    "            email.new_proposed_action()\n",
    "\n",
    "def reward_func(x: NDArray[np.float_]) -> NDArray[np.float_]:\n",
    "    return x[..., 0]\n"
   ]
  },
  {
   "attachments": {},
   "cell_type": "markdown",
   "metadata": {},
   "source": [
    "Now we can define our learning agent. To do so, we will need the main decorator from the `bayesianbandits` library - `@bandit`. The `@bandit` decorator synthesizes the bandit API on our experiment class.\n",
    "\n",
    "The `@bandit` takes two arguments, the `learner` which defines how each arm will learn how rewarding its action is, and `policy`, which determines how the agent chooses which arm to pull. In this case, we'll use `thompson_sampling`, which takes no parameters."
   ]
  },
  {
   "cell_type": "code",
   "execution_count": 4,
   "metadata": {},
   "outputs": [],
   "source": [
    "from bayesianbandits import DirichletClassifier, Arm\n",
    "from bayesianbandits.api import Agent, ThompsonSampling\n",
    "\n",
    "arms = [\n",
    "    Arm(\n",
    "        EmailActions(0),\n",
    "        reward_func,\n",
    "        learner=DirichletClassifier(alphas={\"T\": 0.5, \"F\": 0.5}),\n",
    "    ),\n",
    "    Arm(\n",
    "        EmailActions(1),\n",
    "        reward_func,\n",
    "        learner=DirichletClassifier(alphas={\"T\": 0.5, \"F\": 0.5}),\n",
    "    ),\n",
    "]\n",
    "\n",
    "\n",
    "agent = Agent(arms, ThompsonSampling())"
   ]
  },
  {
   "attachments": {},
   "cell_type": "markdown",
   "metadata": {},
   "source": [
    "Now, let's simulate some online learning. To somewhat approximate the process of capturing data and feeding it to the agent, we'll use the `redirect_stdout` decorator to capture the output of our print calls to a `StringIO` object, then update the agent with the last non-newline character of the object. Let's simulate 5000 observations."
   ]
  },
  {
   "cell_type": "code",
   "execution_count": 5,
   "metadata": {},
   "outputs": [],
   "source": [
    "from contextlib import redirect_stdout\n",
    "from io import StringIO\n",
    "\n",
    "\n",
    "with redirect_stdout(StringIO()) as reward_stream:\n",
    "    for _ in range(5000):\n",
    "        action, = agent.pull()\n",
    "        action.take_action(two_armed_bandit)\n",
    "        agent.update(np.atleast_1d(reward_stream.getvalue()[-2]))\n"
   ]
  },
  {
   "attachments": {},
   "cell_type": "markdown",
   "metadata": {},
   "source": [
    "Let's see how our agent did. First, we can sample from the posterior distributions of each arm to determine the agent's belief about how rewarding each arm is.\n",
    "\n",
    "We can see that the new proposal arm has been correctly been identified as the better arm, and the posterior distribution is narrower, suggesting that the agent spent more time pulling that arm."
   ]
  },
  {
   "cell_type": "code",
   "execution_count": 6,
   "metadata": {},
   "outputs": [
    {
     "data": {
      "image/png": "[encoded data removed]",
      "text/plain": [
       "<Figure size 640x480 with 1 Axes>"
      ]
     },
     "metadata": {},
     "output_type": "display_data"
    }
   ],
   "source": [
    "import matplotlib.pyplot as plt\n",
    "\n",
    "plt.hist(\n",
    "    agent.arms[0].sample(np.array([[1]]), size=5000),\n",
    "    alpha=0.8,\n",
    "    label=\"status quo arm\",\n",
    "    density=True,\n",
    "    stacked=True,\n",
    "    bins=100\n",
    ")\n",
    "plt.hist(\n",
    "    agent.arms[1].sample(np.array([[1]]), size=5000),\n",
    "    alpha=0.8,\n",
    "    label=\"new proposal arm\",\n",
    "    density=True,\n",
    "    stacked=True,\n",
    "    bins=100\n",
    ")\n",
    "\n",
    "plt.xlabel(\"Mean Reward\")\n",
    "plt.ylabel(\"Frequency\")\n",
    "\n",
    "plt.legend()\n",
    "\n",
    "plt.show()\n"
   ]
  },
  {
   "attachments": {},
   "cell_type": "markdown",
   "metadata": {},
   "source": [
    "This is a sort of contrived situation - in the experiment described above, we wouldn't actually know the reward of each action immediately - in reality, our agent would have to pull several arms, and then at some later point it would need to be updated. To facilitate this, `bayesianbandits` allows pulling in batches, and then updating the agent with the results of the batch. "
   ]
  },
  {
   "attachments": {},
   "cell_type": "markdown",
   "metadata": {},
   "source": [
    "Let's simulate what that might look like. Our online learning experiment now consists of two steps:\n",
    "\n",
    "1. Be presented with n choices to make\n",
    "2. Update the learner with the results of those n choices\n",
    "3. Repeat some number of times\n",
    "\n",
    "Let's say that we're going to send out 100 emails a week, and we'll assume, for the sake of this simulation, that we gather data about each of those 100 emails by the end of the week. We'll repeat this process over 10 weeks."
   ]
  },
  {
   "cell_type": "code",
   "execution_count": 7,
   "metadata": {},
   "outputs": [],
   "source": [
    "\n",
    "for week in range(10):\n",
    "\n",
    "    with redirect_stdout(StringIO()) as reward_stream:\n",
    "\n",
    "        feedback: list[str] = []\n",
    "\n",
    "        # make 100 pulls per week\n",
    "        actions: list[EmailActions] = []\n",
    "        for email_idx in range(100):\n",
    "            actions.extend(agent.pull())\n",
    "            actions[-1].take_action(two_armed_bandit)\n",
    "            feedback.append(reward_stream.getvalue()[-2])\n",
    "            \n",
    "        # update the agent with the feedback at the end of the week.\n",
    "        # this can be done in batches, but for simplicity we do it\n",
    "        # one at a time.\n",
    "\n",
    "        for a_, f_ in zip(actions, feedback):\n",
    "            agent.arm(a_).update(np.atleast_1d(f_))\n"
   ]
  },
  {
   "attachments": {},
   "cell_type": "markdown",
   "metadata": {},
   "source": [
    "We can see from the posterior distribution of each arm that the agent essentially learned the same information it learned above. "
   ]
  },
  {
   "cell_type": "code",
   "execution_count": 8,
   "metadata": {},
   "outputs": [
    {
     "data": {
      "image/png": "[encoded data removed]",
      "text/plain": [
       "<Figure size 640x480 with 1 Axes>"
      ]
     },
     "metadata": {},
     "output_type": "display_data"
    }
   ],
   "source": [
    "plt.hist(\n",
    "    agent.arms[0].sample(np.array([[1]]), size=5000),\n",
    "    alpha=0.8,\n",
    "    label=\"status quo arm\",\n",
    "    density=True,\n",
    "    stacked=True,\n",
    "    bins=100\n",
    ")\n",
    "plt.hist(\n",
    "    agent.arms[1].sample(np.array([[1]]), size=5000),\n",
    "    alpha=0.8,\n",
    "    label=\"new proposal arm\",\n",
    "    density=True,\n",
    "    stacked=True,\n",
    "    bins=100\n",
    ")\n",
    "\n",
    "plt.xlabel(\"Mean Reward\")\n",
    "plt.ylabel(\"Frequency\")\n",
    "\n",
    "plt.legend()\n",
    "\n",
    "plt.show()\n"
   ]
  },
  {
   "attachments": {},
   "cell_type": "markdown",
   "metadata": {},
   "source": [
    "Let's add another touch of realism to our above example. We're not actually going to leave our code running all week - we want to run a job on Monday to send all of the emails, and then run a separate job on Sunday to update the agent. There are innumerable ways to do this, but the simplest is to use the `joblib` package, which is utilized by `scikit-learn` to simplify model persistence. Agents created by `bayesianbandits` are also fully-compatible with `joblib`, and can be persisted and reloaded with the `dump` and `load` methods.\n",
    "\n",
    "We can ensure downstream type-safety by annotating the loaded agent with the underlying learner type and the action token type."
   ]
  },
  {
   "cell_type": "code",
   "execution_count": 9,
   "metadata": {},
   "outputs": [],
   "source": [
    "import joblib\n",
    "\n",
    "joblib.dump(agent, \"agent.pkl\")\n",
    "\n",
    "agent: Agent[DirichletClassifier, EmailActions] = joblib.load(\"agent.pkl\")"
   ]
  }
 ],
 "metadata": {
  "kernelspec": {
   "display_name": "bayesianbandits",
   "language": "python",
   "name": "python3"
  },
  "language_info": {
   "codemirror_mode": {
    "name": "ipython",
    "version": 3
   },
   "file_extension": ".py",
   "mimetype": "text/x-python",
   "name": "python",
   "nbconvert_exporter": "python",
   "pygments_lexer": "ipython3",
   "version": "3.9.18"
  },
  "orig_nbformat": 4,
  "vscode": {
   "interpreter": {
    "hash": "e3f36ddb09a06456251074df3dec102b3bd93f6018f69cb4fcf09d3aff836ef2"
   }
  }
 },
 "nbformat": 4,
 "nbformat_minor": 2
}
