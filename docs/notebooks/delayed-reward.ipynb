{
    "cells": [
        {
            "attachments": {},
            "cell_type": "markdown",
            "metadata": {},
            "source": [
                "# Delayed and non-stationary multi-armed bandit problems\n",
                "\n",
                "The traditional setup for multi-armed bandits is that the reward is given immediately after the action is taken. However, in many real-world applications, the reward is delayed. For example, in dynamic pricing, the reward is given after the customer makes the purchase, which can be days or weeks after the price is set. The problem becomes more complicated if the bandit is non-stationary, i.e., the reward distribution changes over time. In this notebook, we will show how to use `bayesianbandits` to approach this family of problems.\n",
                "\n",
                "## How can we implement a geographic pricing strategy?\n",
                "\n",
                "Suppose we are a company that sells a product in multiple cities. We want to maximize our profit by setting the price for each city. The demand for the product is different in each city, and the demand changes over time. We want to learn the demand distribution for each city and set the price accordingly. The reward is the profit, which is the price minus the cost. The cost is the same for all cities, so we can ignore it for now, and we'll make the simplifying assumption that supply is infinite.\n",
                "\n",
                "## Simulating the problem\n",
                "\n",
                "We will simulate the problem using the GeographicPricing class.\n"
            ]
        },
        {
            "cell_type": "code",
            "execution_count": 1,
            "metadata": {},
            "outputs": [],
            "source": [
                "import numpy as np\n",
                "\n",
                "np.random.seed(2)\n",
                "\n",
                "\n",
                "class GeographicPricing:\n",
                "    def __init__(self, num_locations: int):\n",
                "        # Randomly generate demand parameters for each location\n",
                "        self.demand_intercepts = np.random.uniform(low=50, high=100, size=num_locations)\n",
                "        self.demand_slopes = np.random.uniform(low=-2, high=-0.1, size=num_locations)\n",
                "\n",
                "        self.num_locations = num_locations\n",
                "\n",
                "    def demand(self, location: int, price: int) -> float:\n",
                "        # Linear demand function\n",
                "        return max(\n",
                "            self.demand_intercepts[location] + self.demand_slopes[location] * price, 0\n",
                "        )\n",
                "\n",
                "    def margin(self, location: int, price: int) -> float:\n",
                "        # Margin is price times demand, as we're assuming zero marginal cost\n",
                "        return price * self.demand(location, price)\n",
                "\n",
                "    def adjust_demand(self):\n",
                "        # Randomly adjust demand parameters for all locations\n",
                "        adjustment_factor_intercept = np.random.uniform(\n",
                "            low=-0.1, high=0.1, size=self.num_locations\n",
                "        )\n",
                "        adjustment_factor_slope = np.random.uniform(\n",
                "            low=-0.05, high=0.05, size=self.num_locations\n",
                "        )\n",
                "        self.demand_intercepts += adjustment_factor_intercept * self.demand_intercepts\n",
                "        self.demand_slopes += adjustment_factor_slope * self.demand_slopes\n",
                "\n",
                "    def reset_demand(self):\n",
                "        # Reset demand parameters to original values\n",
                "        self.demand_intercepts = np.random.uniform(\n",
                "            low=50, high=100, size=self.num_locations\n",
                "        )\n",
                "        self.demand_slopes = np.random.uniform(\n",
                "            low=-2, high=-0.1, size=self.num_locations\n",
                "        )\n",
                "\n",
                "\n",
                "oracle = GeographicPricing(10)"
            ]
        },
        {
            "attachments": {},
            "cell_type": "markdown",
            "metadata": {},
            "source": [
                "We'll again use Thompson sampling as the bandit algorithm. We'll have a global intercept, as well as an intercept for each location. This, combined with the regularization behavior of the `NormalInverseGamma` regressor, will create a sort of \"poor man's hierarchical model\" where the intercepts for each location are pulled towards the global intercept. Let's say from historical data, we know that we make about 1000 dollars per market per day, so we'll set the prior for the mean of the global intercept to 1000, and all others to 0.\n",
                "\n",
                "First, we'll define our action space. To keep things single, we'll consider a discrete action space with 5 possible prices:\n"
            ]
        },
        {
            "cell_type": "code",
            "execution_count": 2,
            "metadata": {},
            "outputs": [],
            "source": [
                "from enum import Enum\n",
                "\n",
                "\n",
                "class Price(Enum):\n",
                "    price_5 = 5\n",
                "    price_8 = 8\n",
                "    price_11 = 11\n",
                "    price_14 = 14\n",
                "    price_17 = 17\n",
                "\n",
                "    def take_action(self, location: int) -> float:\n",
                "        return oracle.margin(location, self.value)"
            ]
        },
        {
            "attachments": {},
            "cell_type": "markdown",
            "metadata": {},
            "source": [
                "Next, we'll create our `ContextualAgent`.\n"
            ]
        },
        {
            "cell_type": "code",
            "execution_count": 3,
            "metadata": {},
            "outputs": [],
            "source": [
                "from bayesianbandits import NormalInverseGammaRegressor, Arm, ContextualAgent, ThompsonSampling\n",
                "\n",
                "est = NormalInverseGammaRegressor(mu=np.array([1000] + [0] * 10))\n",
                "policy = ThompsonSampling()\n",
                "\n",
                "arms = [\n",
                "    Arm(\n",
                "        Price.price_5,\n",
                "        learner=NormalInverseGammaRegressor(mu=np.array([1000] + [0] * 10)),\n",
                "    ),\n",
                "    Arm(\n",
                "        Price.price_8,\n",
                "        learner=NormalInverseGammaRegressor(mu=np.array([1000] + [0] * 10)),\n",
                "    ),\n",
                "    Arm(\n",
                "        Price.price_11,\n",
                "        learner=NormalInverseGammaRegressor(mu=np.array([1000] + [0] * 10)),\n",
                "    ),\n",
                "    Arm(\n",
                "        Price.price_14,\n",
                "        learner=NormalInverseGammaRegressor(mu=np.array([1000] + [0] * 10)),\n",
                "    ),\n",
                "    Arm(\n",
                "        Price.price_17,\n",
                "        learner=NormalInverseGammaRegressor(mu=np.array([1000] + [0] * 10)),\n",
                "    ),\n",
                "]\n",
                "\n",
                "agent = ContextualAgent(arms=arms, policy=policy, random_seed=111)"
            ]
        },
        {
            "attachments": {},
            "cell_type": "markdown",
            "metadata": {},
            "source": [
                "For the first round, we'll assume that demand is constant, so our measure of success will be the Bandit learning the true demand distribution. However, we only get to update our agent once per day, so we'll have to make decisions for all 10 cities at once, then gather the rewards.\n",
                "\n",
                "In this simulation, the reward for any city-price combination is constant over time, so computing regret is easy. We just have to figure out the best price for each city, and compute the difference between that and the price we chose.\n"
            ]
        },
        {
            "cell_type": "code",
            "execution_count": 4,
            "metadata": {},
            "outputs": [],
            "source": [
                "one_hot_encoding = np.append(np.ones((10, 1)), np.eye(10), axis=-1)\n",
                "\n",
                "regret: list[float] = []\n",
                "\n",
                "best_price_per_city = np.array(\n",
                "    [\n",
                "        [oracle.margin(location, price.value) for price in Price]\n",
                "        for location in range(10)\n",
                "    ]\n",
                ").max(axis=1)\n",
                "\n",
                "for iteration in range(365):\n",
                "    # Pick prices for each location\n",
                "    decisions = agent.pull(one_hot_encoding)\n",
                "\n",
                "    # End of the day, collect rewards\n",
                "    rewards = [token.take_action(location) for location, token in enumerate(decisions)]\n",
                "    regret.append((best_price_per_city - np.array(rewards)).sum())\n",
                "\n",
                "    # Update the agent\n",
                "    for token, reward, context_row in zip(decisions, rewards, one_hot_encoding):\n",
                "        agent.select_for_update(token).update(\n",
                "            np.atleast_2d(context_row), np.atleast_1d(reward)\n",
                "        )"
            ]
        },
        {
            "attachments": {},
            "cell_type": "markdown",
            "metadata": {},
            "source": [
                "We can see that the agent achieves sublinear regret quick quickly.\n"
            ]
        },
        {
            "cell_type": "code",
            "execution_count": 5,
            "metadata": {},
            "outputs": [
                {
                    "name": "stderr",
                    "output_type": "stream",
                    "text": [
                        "Matplotlib is building the font cache; this may take a moment.\n"
                    ]
                },
                {
                    "data": {
                        "text/plain": [
                            "Text(0, 0.5, 'Cumulative Regret')"
                        ]
                    },
                    "execution_count": 5,
                    "metadata": {},
                    "output_type": "execute_result"
                },
                {
                    "data": {
                        "image/png": "[encoded data removed]",
                        "text/plain": [
                            "<Figure size 640x480 with 1 Axes>"
                        ]
                    },
                    "metadata": {},
                    "output_type": "display_data"
                }
            ],
            "source": [
                "import matplotlib.pyplot as plt\n",
                "\n",
                "plt.plot(np.cumsum(regret))\n",
                "plt.xlabel(\"Round\")\n",
                "plt.ylabel(\"Cumulative Regret\")"
            ]
        },
        {
            "attachments": {},
            "cell_type": "markdown",
            "metadata": {},
            "source": [
                "Because we chose a linear demand function, we know for a fact that the $17 price is optimal for all cities. We can see that the agent's learned expected reward per city for the $17 price is very close to the true maximum reward.\n"
            ]
        },
        {
            "cell_type": "code",
            "execution_count": 6,
            "metadata": {},
            "outputs": [
                {
                    "data": {
                        "text/plain": [
                            "array([ 983.33767956,  585.41559973,  813.26377844,  923.87194944,\n",
                            "        730.97891108,  983.68947175,  914.73751899, 1069.20622452,\n",
                            "        991.20894477,  543.60804735])"
                        ]
                    },
                    "execution_count": 6,
                    "metadata": {},
                    "output_type": "execute_result"
                }
            ],
            "source": [
                "agent.arm(Price.price_17).learner.coef_[0] + agent.arm(Price.price_17).learner.coef_[1:]"
            ]
        },
        {
            "cell_type": "code",
            "execution_count": 7,
            "metadata": {},
            "outputs": [
                {
                    "data": {
                        "text/plain": [
                            "array([ 983.66025439,  584.58922102,  813.11095419,  924.02978011,\n",
                            "        730.588562  ,  984.01212752,  914.86917212, 1069.7657688 ,\n",
                            "        991.55338423,  542.53651526])"
                        ]
                    },
                    "execution_count": 7,
                    "metadata": {},
                    "output_type": "execute_result"
                }
            ],
            "source": [
                "best_price_per_city"
            ]
        },
        {
            "attachments": {},
            "cell_type": "markdown",
            "metadata": {},
            "source": [
                "While that was a fun simulation, it's not very realistic. In reality, demand changes over time. Let's simulate that by making the demand for each city a random walk. This is still fairly unrealistic, but we can use this setting to see how the agent performs when the demand is non-stationary.\n",
                "\n",
                "We'll define some helper functions to focus on the most interesting part of the simulation.\n"
            ]
        },
        {
            "cell_type": "code",
            "execution_count": 26,
            "metadata": {},
            "outputs": [],
            "source": [
                "def build_contextual_agent(policy, prior_mean: np.ndarray = np.array([1000] + [0] * 10),\n",
                "                            random_seed: int = 111) -> ContextualAgent:\n",
                "    return ContextualAgent(\n",
                "    arms=[\n",
                "        Arm(\n",
                "            Price.price_5,\n",
                "            learner=NormalInverseGammaRegressor(mu=prior_mean),\n",
                "        ),\n",
                "        Arm(\n",
                "            Price.price_8,\n",
                "            learner=NormalInverseGammaRegressor(mu=prior_mean),\n",
                "        ),\n",
                "        Arm(\n",
                "            Price.price_11,\n",
                "            learner=NormalInverseGammaRegressor(mu=prior_mean),\n",
                "        ),\n",
                "        Arm(\n",
                "            Price.price_14,\n",
                "            learner=NormalInverseGammaRegressor(mu=prior_mean),\n",
                "        ),\n",
                "        Arm(\n",
                "            Price.price_17,\n",
                "            learner=NormalInverseGammaRegressor(mu=prior_mean),\n",
                "        ),\n",
                "    ],\n",
                "    policy=policy,\n",
                "    random_seed=random_seed,\n",
                "    )\n",
                "\n",
                "\n",
                "def compute_best_price_per_city(oracle: GeographicPricing) -> np.ndarray:\n",
                "    best_price_per_city = np.array(\n",
                "        [\n",
                "            [oracle.margin(location, price.value) for price in Price]\n",
                "            for location in range(10)\n",
                "        ]\n",
                "    ).max(axis=1)\n",
                "\n",
                "    return best_price_per_city\n"
            ]
        },
        {
            "cell_type": "code",
            "execution_count": 48,
            "metadata": {},
            "outputs": [],
            "source": [
                "agent = build_contextual_agent(policy=policy)\n",
                "\n",
                "np.random.seed(2)\n",
                "one_hot_encoding = np.append(np.ones((10, 1)), np.eye(10), axis=-1)\n",
                "\n",
                "oracle.reset_demand()\n",
                "regret: list[float] = []\n",
                "\n",
                "for iteration in range(1000):\n",
                "    # Start of each week, randomly adjust demand\n",
                "    if iteration % 7 == 0:\n",
                "        oracle.adjust_demand()\n",
                "\n",
                "    # Recompute best price per city\n",
                "    best_price_per_city = compute_best_price_per_city(oracle)\n",
                "\n",
                "    # Start of the day, adjust prices\n",
                "    decisions = agent.pull(one_hot_encoding)\n",
                "\n",
                "    # End of the day, collect rewards\n",
                "    rewards = [token.take_action(location) for location, token in enumerate(decisions)]\n",
                "    regret.append((best_price_per_city - np.array(rewards)).sum())\n",
                "    \n",
                "    # Update the agent\n",
                "    for token, reward, context_row in zip(decisions, rewards, one_hot_encoding):\n",
                "        agent.select_for_update(token).update(\n",
                "            np.atleast_2d(context_row), np.atleast_1d(reward)\n",
                "        )"
            ]
        },
        {
            "attachments": {},
            "cell_type": "markdown",
            "metadata": {},
            "source": [
                "Now, we see that the agent's performance is much worse. This is because the agent is not able to adapt to the changing demand. As we can see in the below plot, the agent begins to learn the true demand distribution, but then it changes, and the agent has already found a very narrow posterior distribution for the demand. Unfortunately, this posterior is out of date, so the agent will be slow to adapt.\n"
            ]
        },
        {
            "cell_type": "code",
            "execution_count": 49,
            "metadata": {},
            "outputs": [
                {
                    "data": {
                        "text/plain": [
                            "Text(0, 0.5, 'Cumulative Regret')"
                        ]
                    },
                    "execution_count": 49,
                    "metadata": {},
                    "output_type": "execute_result"
                },
                {
                    "data": {
                        "image/png": "[encoded data removed]",
                        "text/plain": [
                            "<Figure size 640x480 with 1 Axes>"
                        ]
                    },
                    "metadata": {},
                    "output_type": "display_data"
                }
            ],
            "source": [
                "import matplotlib.pyplot as plt\n",
                "\n",
                "plt.plot(np.cumsum(regret))\n",
                "plt.xlabel(\"Round\")\n",
                "plt.ylabel(\"Cumulative Regret\")"
            ]
        },
        {
            "attachments": {},
            "cell_type": "markdown",
            "metadata": {},
            "source": [
                "Instead, we can utilize the `Agent.decay` method to increase the variance of our posterior distributions, thereby encouraging the agent to maintain a baseline level of exploration. The choice of `decay_rate` is arbitrary, it is essentially an exponential decay rate that increases the variance of the posterior distributions. We can see that this helps the agent adapt to the changing demand. However, decaying too often can prevent the agent from ever learning how to maximize the reward.\n",
                "\n",
                "We will write a function to run the whole simulation so we can then tune the `decay_rate` hyperparameter."
            ]
        },
        {
            "cell_type": "code",
            "execution_count": 38,
            "metadata": {},
            "outputs": [],
            "source": [
                "\n",
                "def run_decay_simulation(decay_rate: float, oracle: GeographicPricing) -> list[float]:\n",
                "    np.random.seed(2)\n",
                "\n",
                "    oracle.reset_demand()\n",
                "\n",
                "    agent = build_contextual_agent(policy=policy)\n",
                "            \n",
                "    one_hot_encoding = np.append(np.ones((10, 1)), np.eye(10), axis=-1)\n",
                "\n",
                "    regret: list[float] = []\n",
                "\n",
                "    for iteration in range(1000):\n",
                "        # Start of each week, randomly adjust demand\n",
                "        if iteration % 7 == 0:\n",
                "            oracle.adjust_demand()\n",
                "\n",
                "        # Recompute best price per city\n",
                "        best_price_per_city = compute_best_price_per_city(oracle)\n",
                "\n",
                "        # Start of the day, adjust prices\n",
                "        decisions = agent.pull(one_hot_encoding)\n",
                "\n",
                "        # End of the day, collect rewards\n",
                "        rewards = [token.take_action(location) for location, token in enumerate(decisions)]\n",
                "        regret.append((best_price_per_city - np.array(rewards)).sum())\n",
                "        \n",
                "        # Update the agent\n",
                "        for token, reward, context_row in zip(decisions, rewards, one_hot_encoding):\n",
                "            agent.select_for_update(token).update(\n",
                "                np.atleast_2d(context_row), np.atleast_1d(reward)\n",
                "            )\n",
                "\n",
                "        # End of each month, decay the bandit\n",
                "        if iteration % 30 == 0:\n",
                "            agent.decay(one_hot_encoding[0], decay_rate=decay_rate)\n",
                "\n",
                "    return regret\n",
                "\n",
                "regret = run_decay_simulation(0.98, oracle)"
            ]
        },
        {
            "attachments": {},
            "cell_type": "markdown",
            "metadata": {},
            "source": [
                "In this case, we can see that the agent is able to keep up with the changing demand, but that does not necessarily result in lower cumulative regret. This is because the agent is exploring more, and therefore choosing suboptimal prices more often. \n"
            ]
        },
        {
            "cell_type": "code",
            "execution_count": 39,
            "metadata": {},
            "outputs": [
                {
                    "data": {
                        "text/plain": [
                            "Text(0, 0.5, 'Cumulative Regret')"
                        ]
                    },
                    "execution_count": 39,
                    "metadata": {},
                    "output_type": "execute_result"
                },
                {
                    "data": {
                        "image/png": "[encoded data removed]",
                        "text/plain": [
                            "<Figure size 640x480 with 1 Axes>"
                        ]
                    },
                    "metadata": {},
                    "output_type": "display_data"
                }
            ],
            "source": [
                "import matplotlib.pyplot as plt\n",
                "\n",
                "plt.plot(np.cumsum(regret))\n",
                "plt.xlabel(\"Round\")\n",
                "plt.ylabel(\"Cumulative Regret\")"
            ]
        },
        {
            "cell_type": "markdown",
            "metadata": {},
            "source": [
                "Now we'll optimize the `decay_rate` hyperparameter using `optuna`."
            ]
        },
        {
            "cell_type": "code",
            "execution_count": 41,
            "metadata": {},
            "outputs": [
                {
                    "name": "stderr",
                    "output_type": "stream",
                    "text": [
                        "/Users/cristiandagnino/Library/Caches/pypoetry/virtualenvs/bayesianbandits-B6ZK3PHb-py3.12/lib/python3.12/site-packages/tqdm/auto.py:21: TqdmWarning: IProgress not found. Please update jupyter and ipywidgets. See https://ipywidgets.readthedocs.io/en/stable/user_install.html\n",
                        "  from .autonotebook import tqdm as notebook_tqdm\n",
                        "[I 2024-10-31 17:35:41,155] A new study created in memory with name: no-name-26cf3c61-d019-4017-8b19-61e1ad98b05b\n",
                        "[I 2024-10-31 17:35:42,139] Trial 0 finished with value: 101739.0575444402 and parameters: {'decay_rate': 0.9949868386925403}. Best is trial 0 with value: 101739.0575444402.\n",
                        "[I 2024-10-31 17:35:43,003] Trial 1 finished with value: 117651.84949690364 and parameters: {'decay_rate': 0.9660770045019658}. Best is trial 0 with value: 101739.0575444402.\n",
                        "[I 2024-10-31 17:35:43,849] Trial 2 finished with value: 103030.60333949565 and parameters: {'decay_rate': 0.9790803198781718}. Best is trial 0 with value: 101739.0575444402.\n",
                        "[I 2024-10-31 17:35:44,685] Trial 3 finished with value: 102408.72854385014 and parameters: {'decay_rate': 0.9972121341452471}. Best is trial 0 with value: 101739.0575444402.\n",
                        "[I 2024-10-31 17:35:45,572] Trial 4 finished with value: 116763.69288642232 and parameters: {'decay_rate': 0.9703283141325945}. Best is trial 0 with value: 101739.0575444402.\n",
                        "[I 2024-10-31 17:35:46,406] Trial 5 finished with value: 103727.26492525105 and parameters: {'decay_rate': 0.9759228871599178}. Best is trial 0 with value: 101739.0575444402.\n",
                        "[I 2024-10-31 17:35:47,258] Trial 6 finished with value: 122085.52788146482 and parameters: {'decay_rate': 0.94543757523933}. Best is trial 0 with value: 101739.0575444402.\n",
                        "[I 2024-10-31 17:35:48,404] Trial 7 finished with value: 102346.27154712898 and parameters: {'decay_rate': 0.9975457651078593}. Best is trial 0 with value: 101739.0575444402.\n",
                        "[I 2024-10-31 17:35:49,284] Trial 8 finished with value: 116516.16535748365 and parameters: {'decay_rate': 0.971271912999105}. Best is trial 0 with value: 101739.0575444402.\n",
                        "[I 2024-10-31 17:35:50,136] Trial 9 finished with value: 101916.61622780132 and parameters: {'decay_rate': 0.9880296432538056}. Best is trial 0 with value: 101739.0575444402.\n",
                        "[I 2024-10-31 17:35:51,017] Trial 10 finished with value: 126501.65090664552 and parameters: {'decay_rate': 0.9126475787967592}. Best is trial 0 with value: 101739.0575444402.\n",
                        "[I 2024-10-31 17:35:51,899] Trial 11 finished with value: 126237.19586913654 and parameters: {'decay_rate': 0.9421160492575676}. Best is trial 0 with value: 101739.0575444402.\n",
                        "[I 2024-10-31 17:35:52,773] Trial 12 finished with value: 101345.83000817875 and parameters: {'decay_rate': 0.9908370566589243}. Best is trial 12 with value: 101345.83000817875.\n",
                        "[I 2024-10-31 17:35:53,652] Trial 13 finished with value: 126089.99786427221 and parameters: {'decay_rate': 0.928938170870582}. Best is trial 12 with value: 101345.83000817875.\n",
                        "[I 2024-10-31 17:35:54,508] Trial 14 finished with value: 118766.72724948588 and parameters: {'decay_rate': 0.9560615666984204}. Best is trial 12 with value: 101345.83000817875.\n",
                        "[I 2024-10-31 17:35:55,358] Trial 15 finished with value: 101804.50287377983 and parameters: {'decay_rate': 0.9892429986359103}. Best is trial 12 with value: 101345.83000817875.\n",
                        "[I 2024-10-31 17:35:56,231] Trial 16 finished with value: 118486.2138966097 and parameters: {'decay_rate': 0.9561464903742913}. Best is trial 12 with value: 101345.83000817875.\n",
                        "[I 2024-10-31 17:35:57,106] Trial 17 finished with value: 102634.2189180038 and parameters: {'decay_rate': 0.9847423608046825}. Best is trial 12 with value: 101345.83000817875.\n",
                        "[I 2024-10-31 17:35:58,017] Trial 18 finished with value: 102332.83284432754 and parameters: {'decay_rate': 0.9990121336531016}. Best is trial 12 with value: 101345.83000817875.\n",
                        "[I 2024-10-31 17:35:58,858] Trial 19 finished with value: 125721.68345745493 and parameters: {'decay_rate': 0.9302567762702164}. Best is trial 12 with value: 101345.83000817875.\n",
                        "[I 2024-10-31 17:35:59,749] Trial 20 finished with value: 126084.47263401597 and parameters: {'decay_rate': 0.90007267148934}. Best is trial 12 with value: 101345.83000817875.\n",
                        "[I 2024-10-31 17:36:00,811] Trial 21 finished with value: 101862.10374719572 and parameters: {'decay_rate': 0.9895596795277479}. Best is trial 12 with value: 101345.83000817875.\n",
                        "[I 2024-10-31 17:36:01,732] Trial 22 finished with value: 102634.2189180038 and parameters: {'decay_rate': 0.9847023753073757}. Best is trial 12 with value: 101345.83000817875.\n",
                        "[I 2024-10-31 17:36:02,569] Trial 23 finished with value: 117856.84311186531 and parameters: {'decay_rate': 0.9640717138155352}. Best is trial 12 with value: 101345.83000817875.\n",
                        "[I 2024-10-31 17:36:03,418] Trial 24 finished with value: 101407.89677613246 and parameters: {'decay_rate': 0.9912404926869369}. Best is trial 12 with value: 101345.83000817875.\n",
                        "[I 2024-10-31 17:36:04,277] Trial 25 finished with value: 103054.61579711229 and parameters: {'decay_rate': 0.9785933350720448}. Best is trial 12 with value: 101345.83000817875.\n",
                        "[I 2024-10-31 17:36:05,149] Trial 26 finished with value: 101847.99924533707 and parameters: {'decay_rate': 0.994779380482139}. Best is trial 12 with value: 101345.83000817875.\n",
                        "[I 2024-10-31 17:36:05,981] Trial 27 finished with value: 102707.25790921638 and parameters: {'decay_rate': 0.9808788378026186}. Best is trial 12 with value: 101345.83000817875.\n",
                        "[I 2024-10-31 17:36:06,820] Trial 28 finished with value: 118486.2138966097 and parameters: {'decay_rate': 0.9561471834558188}. Best is trial 12 with value: 101345.83000817875.\n",
                        "[I 2024-10-31 17:36:07,677] Trial 29 finished with value: 117680.16249023634 and parameters: {'decay_rate': 0.9651357209213376}. Best is trial 12 with value: 101345.83000817875.\n",
                        "[I 2024-10-31 17:36:08,522] Trial 30 finished with value: 101616.28653529426 and parameters: {'decay_rate': 0.9929398088672958}. Best is trial 12 with value: 101345.83000817875.\n",
                        "[I 2024-10-31 17:36:09,358] Trial 31 finished with value: 101696.81720925495 and parameters: {'decay_rate': 0.9930831314133416}. Best is trial 12 with value: 101345.83000817875.\n",
                        "[I 2024-10-31 17:36:10,231] Trial 32 finished with value: 101468.01577413458 and parameters: {'decay_rate': 0.9902812089783378}. Best is trial 12 with value: 101345.83000817875.\n",
                        "[I 2024-10-31 17:36:11,083] Trial 33 finished with value: 102359.75766293003 and parameters: {'decay_rate': 0.9997089416429952}. Best is trial 12 with value: 101345.83000817875.\n",
                        "[I 2024-10-31 17:36:11,952] Trial 34 finished with value: 103966.21681474813 and parameters: {'decay_rate': 0.9736933707870783}. Best is trial 12 with value: 101345.83000817875.\n",
                        "[I 2024-10-31 17:36:12,860] Trial 35 finished with value: 102377.376415681 and parameters: {'decay_rate': 0.9835324777488585}. Best is trial 12 with value: 101345.83000817875.\n",
                        "[I 2024-10-31 17:36:13,696] Trial 36 finished with value: 101345.83000817875 and parameters: {'decay_rate': 0.9908729292107977}. Best is trial 12 with value: 101345.83000817875.\n",
                        "[I 2024-10-31 17:36:14,527] Trial 37 finished with value: 102664.51077451094 and parameters: {'decay_rate': 0.980446339027315}. Best is trial 12 with value: 101345.83000817875.\n",
                        "[I 2024-10-31 17:36:15,379] Trial 38 finished with value: 117312.90997840397 and parameters: {'decay_rate': 0.9684003445024744}. Best is trial 12 with value: 101345.83000817875.\n",
                        "[I 2024-10-31 17:36:16,213] Trial 39 finished with value: 103622.43204930217 and parameters: {'decay_rate': 0.9751374115138534}. Best is trial 12 with value: 101345.83000817875.\n",
                        "[I 2024-10-31 17:36:17,056] Trial 40 finished with value: 101939.40413629079 and parameters: {'decay_rate': 0.9890836915672462}. Best is trial 12 with value: 101345.83000817875.\n",
                        "[I 2024-10-31 17:36:17,935] Trial 41 finished with value: 101497.24905000452 and parameters: {'decay_rate': 0.9909574732499351}. Best is trial 12 with value: 101345.83000817875.\n",
                        "[I 2024-10-31 17:36:18,838] Trial 42 finished with value: 101733.4274326053 and parameters: {'decay_rate': 0.9935890292687234}. Best is trial 12 with value: 101345.83000817875.\n",
                        "[I 2024-10-31 17:36:19,708] Trial 43 finished with value: 102702.19479331464 and parameters: {'decay_rate': 0.9862414411670894}. Best is trial 12 with value: 101345.83000817875.\n",
                        "[I 2024-10-31 17:36:20,595] Trial 44 finished with value: 102597.07822879407 and parameters: {'decay_rate': 0.9798263050437551}. Best is trial 12 with value: 101345.83000817875.\n",
                        "[I 2024-10-31 17:36:21,431] Trial 45 finished with value: 101840.44401338752 and parameters: {'decay_rate': 0.9953710541890888}. Best is trial 12 with value: 101345.83000817875.\n",
                        "[I 2024-10-31 17:36:22,272] Trial 46 finished with value: 101647.73456419399 and parameters: {'decay_rate': 0.990379788326791}. Best is trial 12 with value: 101345.83000817875.\n",
                        "[I 2024-10-31 17:36:23,120] Trial 47 finished with value: 102359.75766293003 and parameters: {'decay_rate': 0.9997238738605421}. Best is trial 12 with value: 101345.83000817875.\n",
                        "[I 2024-10-31 17:36:24,050] Trial 48 finished with value: 104031.560416618 and parameters: {'decay_rate': 0.9728626888903525}. Best is trial 12 with value: 101345.83000817875.\n",
                        "[I 2024-10-31 17:36:24,934] Trial 49 finished with value: 118652.74981099833 and parameters: {'decay_rate': 0.9620716067057684}. Best is trial 12 with value: 101345.83000817875.\n",
                        "[I 2024-10-31 17:36:25,783] Trial 50 finished with value: 125070.52167300122 and parameters: {'decay_rate': 0.9377812862687006}. Best is trial 12 with value: 101345.83000817875.\n",
                        "[I 2024-10-31 17:36:26,652] Trial 51 finished with value: 101611.28183132818 and parameters: {'decay_rate': 0.9928160659548706}. Best is trial 12 with value: 101345.83000817875.\n",
                        "[I 2024-10-31 17:36:27,495] Trial 52 finished with value: 102426.09347595196 and parameters: {'decay_rate': 0.9866785308705766}. Best is trial 12 with value: 101345.83000817875.\n",
                        "[I 2024-10-31 17:36:28,338] Trial 53 finished with value: 101700.24493002715 and parameters: {'decay_rate': 0.9917854833979813}. Best is trial 12 with value: 101345.83000817875.\n",
                        "[I 2024-10-31 17:36:29,270] Trial 54 finished with value: 102346.74515900883 and parameters: {'decay_rate': 0.9831648346829318}. Best is trial 12 with value: 101345.83000817875.\n",
                        "[I 2024-10-31 17:36:30,116] Trial 55 finished with value: 103138.71415691322 and parameters: {'decay_rate': 0.9774272815068307}. Best is trial 12 with value: 101345.83000817875.\n",
                        "[I 2024-10-31 17:36:30,947] Trial 56 finished with value: 101764.86625949066 and parameters: {'decay_rate': 0.9960433809996715}. Best is trial 12 with value: 101345.83000817875.\n",
                        "[I 2024-10-31 17:36:31,806] Trial 57 finished with value: 102176.68195471904 and parameters: {'decay_rate': 0.9886773038493006}. Best is trial 12 with value: 101345.83000817875.\n",
                        "[I 2024-10-31 17:36:32,699] Trial 58 finished with value: 101806.00353137191 and parameters: {'decay_rate': 0.9959853215190095}. Best is trial 12 with value: 101345.83000817875.\n",
                        "[I 2024-10-31 17:36:33,539] Trial 59 finished with value: 102423.49489172683 and parameters: {'decay_rate': 0.9842421415110613}. Best is trial 12 with value: 101345.83000817875.\n",
                        "[I 2024-10-31 17:36:34,408] Trial 60 finished with value: 128361.5190589777 and parameters: {'decay_rate': 0.9208502020173807}. Best is trial 12 with value: 101345.83000817875.\n",
                        "[I 2024-10-31 17:36:35,250] Trial 61 finished with value: 101700.24493002715 and parameters: {'decay_rate': 0.9918042910721319}. Best is trial 12 with value: 101345.83000817875.\n",
                        "[I 2024-10-31 17:36:36,111] Trial 62 finished with value: 102399.80657845222 and parameters: {'decay_rate': 0.996936822886615}. Best is trial 12 with value: 101345.83000817875.\n",
                        "[I 2024-10-31 17:36:36,948] Trial 63 finished with value: 101930.60043826229 and parameters: {'decay_rate': 0.9919794959980553}. Best is trial 12 with value: 101345.83000817875.\n",
                        "[I 2024-10-31 17:36:37,793] Trial 64 finished with value: 101763.03515210937 and parameters: {'decay_rate': 0.9873894656000065}. Best is trial 12 with value: 101345.83000817875.\n",
                        "[I 2024-10-31 17:36:38,620] Trial 65 finished with value: 102142.9673602207 and parameters: {'decay_rate': 0.98236213821918}. Best is trial 12 with value: 101345.83000817875.\n",
                        "[I 2024-10-31 17:36:39,457] Trial 66 finished with value: 103556.25271086671 and parameters: {'decay_rate': 0.9768902716177802}. Best is trial 12 with value: 101345.83000817875.\n",
                        "[I 2024-10-31 17:36:40,299] Trial 67 finished with value: 102294.3015212176 and parameters: {'decay_rate': 0.9999377018718539}. Best is trial 12 with value: 101345.83000817875.\n",
                        "[I 2024-10-31 17:36:41,183] Trial 68 finished with value: 101705.12376926793 and parameters: {'decay_rate': 0.9927826241784882}. Best is trial 12 with value: 101345.83000817875.\n",
                        "[I 2024-10-31 17:36:42,075] Trial 69 finished with value: 116966.26535474288 and parameters: {'decay_rate': 0.970101936870058}. Best is trial 12 with value: 101345.83000817875.\n",
                        "[I 2024-10-31 17:36:42,947] Trial 70 finished with value: 101806.00353137191 and parameters: {'decay_rate': 0.9958643855816992}. Best is trial 12 with value: 101345.83000817875.\n",
                        "[I 2024-10-31 17:36:43,802] Trial 71 finished with value: 102176.68195471904 and parameters: {'decay_rate': 0.9886180634437643}. Best is trial 12 with value: 101345.83000817875.\n",
                        "[I 2024-10-31 17:36:44,658] Trial 72 finished with value: 101571.18714697307 and parameters: {'decay_rate': 0.9901457058008419}. Best is trial 12 with value: 101345.83000817875.\n",
                        "[I 2024-10-31 17:36:45,490] Trial 73 finished with value: 102702.19479331464 and parameters: {'decay_rate': 0.9862845133696984}. Best is trial 12 with value: 101345.83000817875.\n",
                        "[I 2024-10-31 17:36:46,341] Trial 74 finished with value: 101549.69958407781 and parameters: {'decay_rate': 0.9905072666112287}. Best is trial 12 with value: 101345.83000817875.\n",
                        "[I 2024-10-31 17:36:47,181] Trial 75 finished with value: 102590.40860314087 and parameters: {'decay_rate': 0.9807103799023702}. Best is trial 12 with value: 101345.83000817875.\n",
                        "[I 2024-10-31 17:36:48,248] Trial 76 finished with value: 101719.0793375878 and parameters: {'decay_rate': 0.9900140446585524}. Best is trial 12 with value: 101345.83000817875.\n",
                        "[I 2024-10-31 17:36:49,086] Trial 77 finished with value: 102607.27247813564 and parameters: {'decay_rate': 0.9850169421498787}. Best is trial 12 with value: 101345.83000817875.\n",
                        "[I 2024-10-31 17:36:49,944] Trial 78 finished with value: 121811.74739113303 and parameters: {'decay_rate': 0.9504516934484787}. Best is trial 12 with value: 101345.83000817875.\n",
                        "[I 2024-10-31 17:36:50,829] Trial 79 finished with value: 126429.99492952587 and parameters: {'decay_rate': 0.9009378903061661}. Best is trial 12 with value: 101345.83000817875.\n",
                        "[I 2024-10-31 17:36:51,669] Trial 80 finished with value: 102408.87231649003 and parameters: {'decay_rate': 0.9974943031998195}. Best is trial 12 with value: 101345.83000817875.\n",
                        "[I 2024-10-31 17:36:52,497] Trial 81 finished with value: 101694.19932260254 and parameters: {'decay_rate': 0.9938777776202711}. Best is trial 12 with value: 101345.83000817875.\n",
                        "[I 2024-10-31 17:36:53,327] Trial 82 finished with value: 101862.9428937088 and parameters: {'decay_rate': 0.9914365734470866}. Best is trial 12 with value: 101345.83000817875.\n",
                        "[I 2024-10-31 17:36:54,186] Trial 83 finished with value: 102151.7196868533 and parameters: {'decay_rate': 0.988581912523011}. Best is trial 12 with value: 101345.83000817875.\n",
                        "[I 2024-10-31 17:36:55,020] Trial 84 finished with value: 102201.88327025773 and parameters: {'decay_rate': 0.9823012279739197}. Best is trial 12 with value: 101345.83000817875.\n",
                        "[I 2024-10-31 17:36:55,874] Trial 85 finished with value: 101768.96591856497 and parameters: {'decay_rate': 0.9943581801784397}. Best is trial 12 with value: 101345.83000817875.\n",
                        "[I 2024-10-31 17:36:56,707] Trial 86 finished with value: 102379.25471170858 and parameters: {'decay_rate': 0.9982100244707073}. Best is trial 12 with value: 101345.83000817875.\n",
                        "[I 2024-10-31 17:36:57,555] Trial 87 finished with value: 101727.39575281682 and parameters: {'decay_rate': 0.987211051518184}. Best is trial 12 with value: 101345.83000817875.\n",
                        "[I 2024-10-31 17:36:58,403] Trial 88 finished with value: 101468.01577413458 and parameters: {'decay_rate': 0.9902653303932197}. Best is trial 12 with value: 101345.83000817875.\n",
                        "[I 2024-10-31 17:36:59,243] Trial 89 finished with value: 103006.16798550427 and parameters: {'decay_rate': 0.9790923130697174}. Best is trial 12 with value: 101345.83000817875.\n",
                        "[I 2024-10-31 17:37:00,096] Trial 90 finished with value: 101549.69958407781 and parameters: {'decay_rate': 0.9905127576946042}. Best is trial 12 with value: 101345.83000817875.\n",
                        "[I 2024-10-31 17:37:00,934] Trial 91 finished with value: 101681.05265922107 and parameters: {'decay_rate': 0.989818490917528}. Best is trial 12 with value: 101345.83000817875.\n",
                        "[I 2024-10-31 17:37:01,782] Trial 92 finished with value: 102839.63544666299 and parameters: {'decay_rate': 0.9851418128773926}. Best is trial 12 with value: 101345.83000817875.\n",
                        "[I 2024-10-31 17:37:02,620] Trial 93 finished with value: 101643.68743823573 and parameters: {'decay_rate': 0.9937790608359196}. Best is trial 12 with value: 101345.83000817875.\n",
                        "[I 2024-10-31 17:37:03,469] Trial 94 finished with value: 101345.83000817875 and parameters: {'decay_rate': 0.9908438541113511}. Best is trial 12 with value: 101345.83000817875.\n",
                        "[I 2024-10-31 17:37:04,321] Trial 95 finished with value: 102377.376415681 and parameters: {'decay_rate': 0.9832772133467597}. Best is trial 12 with value: 101345.83000817875.\n",
                        "[I 2024-10-31 17:37:05,153] Trial 96 finished with value: 101647.73456419399 and parameters: {'decay_rate': 0.9903884249224646}. Best is trial 12 with value: 101345.83000817875.\n",
                        "[I 2024-10-31 17:37:06,027] Trial 97 finished with value: 101654.7912812853 and parameters: {'decay_rate': 0.9870598092739382}. Best is trial 12 with value: 101345.83000817875.\n",
                        "[I 2024-10-31 17:37:06,856] Trial 98 finished with value: 101788.7295482218 and parameters: {'decay_rate': 0.99643098607561}. Best is trial 12 with value: 101345.83000817875.\n",
                        "[I 2024-10-31 17:37:07,689] Trial 99 finished with value: 104009.14036360958 and parameters: {'decay_rate': 0.9741987102384027}. Best is trial 12 with value: 101345.83000817875.\n"
                    ]
                }
            ],
            "source": [
                "import optuna\n",
                "\n",
                "def objective(trial: optuna.Trial):\n",
                "    decay_rate = trial.suggest_float(\"decay_rate\", 0.9, 1.0)\n",
                "    regret = run_decay_simulation(decay_rate, oracle)\n",
                "    return np.cumsum(regret)[-1]\n",
                "\n",
                "study = optuna.create_study(direction=\"minimize\")\n",
                "study.optimize(objective, n_trials=100)"
            ]
        },
        {
            "cell_type": "code",
            "execution_count": 43,
            "metadata": {},
            "outputs": [
                {
                    "data": {
                        "text/plain": [
                            "({'decay_rate': 0.9908370566589243}, 101345.83000817875)"
                        ]
                    },
                    "execution_count": 43,
                    "metadata": {},
                    "output_type": "execute_result"
                }
            ],
            "source": [
                "study.best_params, study.best_value"
            ]
        },
        {
            "cell_type": "code",
            "execution_count": null,
            "metadata": {},
            "outputs": [],
            "source": []
        }
    ],
    "metadata": {
        "kernelspec": {
            "display_name": "bayesianbandits",
            "language": "python",
            "name": "python3"
        },
        "language_info": {
            "codemirror_mode": {
                "name": "ipython",
                "version": 3
            },
            "file_extension": ".py",
            "mimetype": "text/x-python",
            "name": "python",
            "nbconvert_exporter": "python",
            "pygments_lexer": "ipython3",
            "version": "3.12.6"
        },
        "orig_nbformat": 4
    },
    "nbformat": 4,
    "nbformat_minor": 2
}
