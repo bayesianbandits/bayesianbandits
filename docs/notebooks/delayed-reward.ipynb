{
 "cells": [
  {
   "attachments": {},
   "cell_type": "markdown",
   "metadata": {},
   "source": [
    "# Delayed and non-stationary multi-armed bandit problems\n",
    "\n",
    "The traditional setup for multi-armed bandits is that the reward is given immediately after the action is taken. However, in many real-world applications, the reward is delayed. For example, in dynamic pricing, the reward is given after the customer makes the purchase, which can be days or weeks after the price is set. The problem becomes more complicated if the bandit is non-stationary, i.e., the reward distribution changes over time. In this notebook, we will show how to use `bayesianbandits` to approach this family of problems.\n",
    "\n",
    "## How can we implement a geographic pricing strategy?\n",
    "\n",
    "Suppose we are a company that sells a product in multiple cities. We want to maximize our profit by setting the price for each city. The demand for the product is different in each city, and the demand changes over time. We want to learn the demand distribution for each city and set the price accordingly. The reward is the profit, which is the price minus the cost. The cost is the same for all cities, so we can ignore it for now, and we'll make the simplifying assumption that supply is infinite.\n",
    "\n",
    "## Simulating the problem\n",
    "\n",
    "We will simulate the problem using the GeographicPricing class.\n"
   ]
  },
  {
   "cell_type": "code",
   "execution_count": 1,
   "metadata": {},
   "outputs": [],
   "source": [
    "import numpy as np\n",
    "\n",
    "np.random.seed(2)\n",
    "\n",
    "\n",
    "class GeographicPricing:\n",
    "    def __init__(self, num_locations: int):\n",
    "        # Randomly generate demand parameters for each location\n",
    "        self.demand_intercepts = np.random.uniform(low=50, high=100, size=num_locations)\n",
    "        self.demand_slopes = np.random.uniform(low=-2, high=-0.1, size=num_locations)\n",
    "\n",
    "        self.num_locations = num_locations\n",
    "\n",
    "    def demand(self, location: int, price: int) -> float:\n",
    "        # Linear demand function\n",
    "        return max(\n",
    "            self.demand_intercepts[location] + self.demand_slopes[location] * price, 0\n",
    "        )\n",
    "\n",
    "    def margin(self, location: int, price: int) -> float:\n",
    "        # Margin is price times demand, as we're assuming zero marginal cost\n",
    "        return price * self.demand(location, price)\n",
    "\n",
    "    def adjust_demand(self):\n",
    "        # Time-based step changes\n",
    "        if hasattr(self, 'step_counter'):\n",
    "            self.step_counter += 1\n",
    "        else:\n",
    "            self.step_counter = 0\n",
    "        \n",
    "        # Create step changes at fixed intervals\n",
    "        if self.step_counter % 20 == 0:\n",
    "            # Alternate between increasing and decreasing steps\n",
    "            direction = 1 if (self.step_counter // 20) % 2 == 0 else -1\n",
    "            step_size_intercept = direction * np.abs(np.random.uniform(8, 20, size=self.num_locations))\n",
    "            step_size_slope = direction * np.abs(np.random.uniform(0.1, 0.5, size=self.num_locations))\n",
    "            \n",
    "            self.demand_intercepts += step_size_intercept\n",
    "            self.demand_slopes += step_size_slope\n",
    "        \n",
    "        # Constant upward drift for all locations\n",
    "        drift_intercept = np.full(self.num_locations, 0.05)  # fixed small positive drift\n",
    "        drift_slope = np.full(self.num_locations, 0.001)    # fixed small positive drift\n",
    "        \n",
    "        self.demand_intercepts += drift_intercept\n",
    "        self.demand_slopes += drift_slope\n",
    "        \n",
    "        # Ensure demand parameters stay within reasonable bounds\n",
    "        self.demand_intercepts = np.clip(self.demand_intercepts, 20, 150)\n",
    "        self.demand_slopes = np.clip(self.demand_slopes, -3, -0.05)\n",
    "\n",
    "    def reset_demand(self):\n",
    "        # Reset demand parameters to original values\n",
    "        self.demand_intercepts = np.random.uniform(\n",
    "            low=50, high=100, size=self.num_locations\n",
    "        )\n",
    "        self.demand_slopes = np.random.uniform(\n",
    "            low=-2, high=-0.1, size=self.num_locations\n",
    "        )\n",
    "\n",
    "\n",
    "oracle = GeographicPricing(10)"
   ]
  },
  {
   "attachments": {},
   "cell_type": "markdown",
   "metadata": {},
   "source": [
    "We'll again use Thompson sampling as the bandit algorithm. We'll have a global intercept, as well as an intercept for each location. This, combined with the regularization behavior of the `NormalInverseGamma` regressor, will create a sort of \"poor man's hierarchical model\" where the intercepts for each location are pulled towards the global intercept. Let's say from historical data, we know that we make about 1000 dollars per market per day, so we'll set the prior for the mean of the global intercept to 1000, and all others to 0.\n",
    "\n",
    "First, we'll define our action space. To keep things single, we'll consider a discrete action space with 5 possible prices:\n"
   ]
  },
  {
   "cell_type": "code",
   "execution_count": 2,
   "metadata": {},
   "outputs": [],
   "source": [
    "from enum import Enum\n",
    "\n",
    "\n",
    "class Price(Enum):\n",
    "    price_5 = 5\n",
    "    price_8 = 8\n",
    "    price_11 = 11\n",
    "    price_14 = 14\n",
    "    price_17 = 17\n",
    "\n",
    "    def take_action(self, location: int) -> float:\n",
    "        return oracle.margin(location, self.value)"
   ]
  },
  {
   "attachments": {},
   "cell_type": "markdown",
   "metadata": {},
   "source": [
    "Next, we'll create our `ContextualAgent`.\n"
   ]
  },
  {
   "cell_type": "code",
   "execution_count": 3,
   "metadata": {},
   "outputs": [],
   "source": [
    "from bayesianbandits import NormalInverseGammaRegressor, Arm, ContextualAgent, ThompsonSampling\n",
    "\n",
    "est = NormalInverseGammaRegressor(mu=np.array([1000] + [0] * 10))\n",
    "policy = ThompsonSampling()\n",
    "\n",
    "arms = [\n",
    "    Arm(\n",
    "        Price.price_5,\n",
    "        learner=NormalInverseGammaRegressor(mu=np.array([1000] + [0] * 10)),\n",
    "    ),\n",
    "    Arm(\n",
    "        Price.price_8,\n",
    "        learner=NormalInverseGammaRegressor(mu=np.array([1000] + [0] * 10)),\n",
    "    ),\n",
    "    Arm(\n",
    "        Price.price_11,\n",
    "        learner=NormalInverseGammaRegressor(mu=np.array([1000] + [0] * 10)),\n",
    "    ),\n",
    "    Arm(\n",
    "        Price.price_14,\n",
    "        learner=NormalInverseGammaRegressor(mu=np.array([1000] + [0] * 10)),\n",
    "    ),\n",
    "    Arm(\n",
    "        Price.price_17,\n",
    "        learner=NormalInverseGammaRegressor(mu=np.array([1000] + [0] * 10)),\n",
    "    ),\n",
    "]\n",
    "\n",
    "agent = ContextualAgent(arms=arms, policy=policy, random_seed=111)"
   ]
  },
  {
   "attachments": {},
   "cell_type": "markdown",
   "metadata": {},
   "source": [
    "For the first round, we'll assume that demand is constant, so our measure of success will be the Bandit learning the true demand distribution. However, we only get to update our agent once per day, so we'll have to make decisions for all 10 cities at once, then gather the rewards.\n",
    "\n",
    "In this simulation, the reward for any city-price combination is constant over time, so computing regret is easy. We just have to figure out the best price for each city, and compute the difference between that and the price we chose.\n"
   ]
  },
  {
   "cell_type": "code",
   "execution_count": 4,
   "metadata": {},
   "outputs": [],
   "source": [
    "one_hot_encoding = np.append(np.ones((10, 1)), np.eye(10), axis=-1)\n",
    "\n",
    "regret: list[float] = []\n",
    "\n",
    "best_price_per_city = np.array(\n",
    "    [\n",
    "        [oracle.margin(location, price.value) for price in Price]\n",
    "        for location in range(10)\n",
    "    ]\n",
    ").max(axis=1)\n",
    "\n",
    "for iteration in range(365):\n",
    "    # Pick prices for each location\n",
    "    decisions = agent.pull(one_hot_encoding)\n",
    "\n",
    "    # End of the day, collect rewards\n",
    "    rewards = [token.take_action(location) for location, token in enumerate(decisions)]\n",
    "    regret.append((best_price_per_city - np.array(rewards)).sum())\n",
    "\n",
    "    # Update the agent\n",
    "    for token, reward, context_row in zip(decisions, rewards, one_hot_encoding):\n",
    "        agent.select_for_update(token).update(\n",
    "            np.atleast_2d(context_row), np.atleast_1d(reward)\n",
    "        )"
   ]
  },
  {
   "attachments": {},
   "cell_type": "markdown",
   "metadata": {},
   "source": [
    "We can see that the agent achieves sublinear regret quick quickly.\n"
   ]
  },
  {
   "cell_type": "code",
   "execution_count": 5,
   "metadata": {},
   "outputs": [
    {
     "data": {
      "image/png": "[encoded data removed]",
      "text/plain": [
       "<Figure size 640x480 with 1 Axes>"
      ]
     },
     "metadata": {},
     "output_type": "display_data"
    }
   ],
   "source": [
    "import matplotlib.pyplot as plt\n",
    "\n",
    "cumsum_regret = np.cumsum(regret)\n",
    "plt.plot(cumsum_regret)\n",
    "plt.xlabel(\"Round\")\n",
    "plt.ylabel(\"Cumulative Regret\")\n",
    "plt.title(f\"Regret goes to {cumsum_regret[-1]:0.1f}\")\n",
    "\n",
    "summary_of_regrets = {'Regret without drift (and no decay)': cumsum_regret[-1]}"
   ]
  },
  {
   "attachments": {},
   "cell_type": "markdown",
   "metadata": {},
   "source": [
    "Because we chose a linear demand function, we know for a fact that the $17 price is optimal for all cities. We can see that the agent's learned expected reward per city for the $17 price is very close to the true maximum reward.\n"
   ]
  },
  {
   "cell_type": "code",
   "execution_count": 6,
   "metadata": {},
   "outputs": [
    {
     "data": {
      "text/plain": [
       "array([ 983.33767956,  585.41559973,  813.26377844,  923.87194944,\n",
       "        730.97891108,  983.68947175,  914.73751899, 1069.20622452,\n",
       "        991.20894477,  543.60804735])"
      ]
     },
     "execution_count": 6,
     "metadata": {},
     "output_type": "execute_result"
    }
   ],
   "source": [
    "agent.arm(Price.price_17).learner.coef_[0] + agent.arm(Price.price_17).learner.coef_[1:]"
   ]
  },
  {
   "cell_type": "code",
   "execution_count": 7,
   "metadata": {},
   "outputs": [
    {
     "data": {
      "text/plain": [
       "array([ 983.66025439,  584.58922102,  813.11095419,  924.02978011,\n",
       "        730.588562  ,  984.01212752,  914.86917212, 1069.7657688 ,\n",
       "        991.55338423,  542.53651526])"
      ]
     },
     "execution_count": 7,
     "metadata": {},
     "output_type": "execute_result"
    }
   ],
   "source": [
    "best_price_per_city"
   ]
  },
  {
   "attachments": {},
   "cell_type": "markdown",
   "metadata": {},
   "source": [
    "While that was a fun simulation, it's not very realistic. In reality, demand changes over time. Let's simulate that by making the demand for each city a step function with some drift (given by the the `adjust_demand` method above). This is still fairly unrealistic, but we can use this setting to see how the agent performs when the demand is non-stationary.\n",
    "\n",
    "We'll define some helper functions to focus on the most interesting part of the simulation.\n"
   ]
  },
  {
   "cell_type": "code",
   "execution_count": 8,
   "metadata": {},
   "outputs": [],
   "source": [
    "def build_contextual_agent(policy, prior_mean: np.ndarray = np.array([1000] + [0] * 10),\n",
    "                            random_seed: int = 111) -> ContextualAgent:\n",
    "    return ContextualAgent(\n",
    "    arms=[\n",
    "        Arm(\n",
    "            Price.price_5,\n",
    "            learner=NormalInverseGammaRegressor(mu=prior_mean),\n",
    "        ),\n",
    "        Arm(\n",
    "            Price.price_8,\n",
    "            learner=NormalInverseGammaRegressor(mu=prior_mean),\n",
    "        ),\n",
    "        Arm(\n",
    "            Price.price_11,\n",
    "            learner=NormalInverseGammaRegressor(mu=prior_mean),\n",
    "        ),\n",
    "        Arm(\n",
    "            Price.price_14,\n",
    "            learner=NormalInverseGammaRegressor(mu=prior_mean),\n",
    "        ),\n",
    "        Arm(\n",
    "            Price.price_17,\n",
    "            learner=NormalInverseGammaRegressor(mu=prior_mean),\n",
    "        ),\n",
    "    ],\n",
    "    policy=policy,\n",
    "    random_seed=random_seed,\n",
    "    )\n",
    "\n",
    "\n",
    "def compute_best_price_per_city(oracle: GeographicPricing) -> np.ndarray:\n",
    "    best_price_per_city = np.array(\n",
    "        [\n",
    "            [oracle.margin(location, price.value) for price in Price]\n",
    "            for location in range(10)\n",
    "        ]\n",
    "    ).max(axis=1)\n",
    "\n",
    "    return best_price_per_city\n"
   ]
  },
  {
   "cell_type": "code",
   "execution_count": 9,
   "metadata": {},
   "outputs": [],
   "source": [
    "agent = build_contextual_agent(policy=policy)\n",
    "\n",
    "np.random.seed(2)\n",
    "one_hot_encoding = np.append(np.ones((10, 1)), np.eye(10), axis=-1)\n",
    "\n",
    "oracle.reset_demand()\n",
    "regret: list[float] = []\n",
    "\n",
    "for iteration in range(1000):\n",
    "    # Start of each week, randomly adjust demand\n",
    "    if iteration % 7 == 0:\n",
    "        oracle.adjust_demand()\n",
    "\n",
    "    # Recompute best price per city\n",
    "    best_price_per_city = compute_best_price_per_city(oracle)\n",
    "\n",
    "    # Start of the day, adjust prices\n",
    "    decisions = agent.pull(one_hot_encoding)\n",
    "\n",
    "    # End of the day, collect rewards\n",
    "    rewards = [token.take_action(location) for location, token in enumerate(decisions)]\n",
    "    regret.append((best_price_per_city - np.array(rewards)).sum())\n",
    "    \n",
    "    # Update the agent\n",
    "    for token, reward, context_row in zip(decisions, rewards, one_hot_encoding):\n",
    "        agent.select_for_update(token).update(\n",
    "            np.atleast_2d(context_row), np.atleast_1d(reward)\n",
    "        )"
   ]
  },
  {
   "attachments": {},
   "cell_type": "markdown",
   "metadata": {},
   "source": [
    "Now, we see that the agent's performance is much worse. This is because the agent is not able to adapt to the changing demand. As we can see in the below plot, the agent begins to learn the true demand distribution, but then it changes, and the agent has already found a very narrow posterior distribution for the demand. Unfortunately, this posterior is out of date, so the agent will be slow to adapt.\n"
   ]
  },
  {
   "cell_type": "code",
   "execution_count": 10,
   "metadata": {},
   "outputs": [
    {
     "data": {
      "image/png": "[encoded data removed]",
      "text/plain": [
       "<Figure size 640x480 with 1 Axes>"
      ]
     },
     "metadata": {},
     "output_type": "display_data"
    }
   ],
   "source": [
    "import matplotlib.pyplot as plt\n",
    "\n",
    "plt.plot(np.cumsum(regret))\n",
    "plt.xlabel(\"Round\")\n",
    "plt.ylabel(\"Cumulative Regret\")\n",
    "regret_without_decay = np.cumsum(regret)[-1]\n",
    "plt.title(f\"Regret goes to {regret_without_decay:0.1f}\")\n",
    "summary_of_regrets['Regret with drift and without decay'] = regret_without_decay"
   ]
  },
  {
   "attachments": {},
   "cell_type": "markdown",
   "metadata": {},
   "source": [
    "Instead, we can utilize the `Agent.decay` method to increase the variance of our posterior distributions, thereby encouraging the agent to maintain a baseline level of exploration. The choice of `decay_rate` is arbitrary, it is essentially an exponential decay rate that increases the variance of the posterior distributions. We can see that this helps the agent adapt to the changing demand. However, decaying too often can prevent the agent from ever learning how to maximize the reward.\n",
    "\n",
    "We will write a function to run the whole simulation so we can then tune the `decay_rate` hyperparameter. We'll start with `decay_rate` = 0.999 just to see how it goes."
   ]
  },
  {
   "cell_type": "code",
   "execution_count": 11,
   "metadata": {},
   "outputs": [],
   "source": [
    "\n",
    "def run_decay_simulation(decay_rate: float, oracle: GeographicPricing) -> list[float]:\n",
    "    np.random.seed(2)\n",
    "\n",
    "    oracle.reset_demand()\n",
    "\n",
    "    agent = build_contextual_agent(policy=policy)\n",
    "            \n",
    "    one_hot_encoding = np.append(np.ones((10, 1)), np.eye(10), axis=-1)\n",
    "\n",
    "    regret: list[float] = []\n",
    "\n",
    "    for iteration in range(1000):\n",
    "        # Start of each week, randomly adjust demand\n",
    "        if iteration % 7 == 0:\n",
    "            oracle.adjust_demand()\n",
    "\n",
    "        # Recompute best price per city\n",
    "        best_price_per_city = compute_best_price_per_city(oracle)\n",
    "\n",
    "        # Start of the day, adjust prices\n",
    "        decisions = agent.pull(one_hot_encoding)\n",
    "\n",
    "        # End of the day, collect rewards\n",
    "        rewards = [token.take_action(location) for location, token in enumerate(decisions)]\n",
    "        regret.append((best_price_per_city - np.array(rewards)).sum())\n",
    "        \n",
    "        # Update the agent\n",
    "        for token, reward, context_row in zip(decisions, rewards, one_hot_encoding):\n",
    "            agent.select_for_update(token).update(\n",
    "                np.atleast_2d(context_row), np.atleast_1d(reward)\n",
    "            )\n",
    "\n",
    "        # End of each month, decay the bandit\n",
    "        if iteration % 30 == 0:\n",
    "            agent.decay(one_hot_encoding[0], decay_rate=decay_rate)\n",
    "\n",
    "    return regret\n",
    "\n",
    "regret = run_decay_simulation(0.999, oracle)\n"
   ]
  },
  {
   "attachments": {},
   "cell_type": "markdown",
   "metadata": {},
   "source": [
    "In this case, we can see that the agent is able to keep up with the changing demand, but that does not necessarily result in lower cumulative regret. This is because the agent is exploring more, and therefore choosing suboptimal prices more often. \n"
   ]
  },
  {
   "cell_type": "code",
   "execution_count": 12,
   "metadata": {},
   "outputs": [
    {
     "data": {
      "image/png": "[encoded data removed]",
      "text/plain": [
       "<Figure size 640x480 with 1 Axes>"
      ]
     },
     "metadata": {},
     "output_type": "display_data"
    }
   ],
   "source": [
    "plt.plot(np.cumsum(regret))\n",
    "zero_ninety_eight_decay_regret = np.cumsum(regret)[-1]\n",
    "plt.xlabel(\"Round\")\n",
    "plt.ylabel(\"Cumulative Regret\")\n",
    "plt.title(f\"Cumulative regret for 0.999 decay: {zero_ninety_eight_decay_regret:0.1f}\")\n",
    "summary_of_regrets['Regret with drift and a 0.999 decay rate'] = zero_ninety_eight_decay_regret "
   ]
  },
  {
   "cell_type": "markdown",
   "metadata": {},
   "source": [
    "Now we'll optimize the `decay_rate` hyperparameter using `optuna`."
   ]
  },
  {
   "cell_type": "code",
   "execution_count": 13,
   "metadata": {},
   "outputs": [],
   "source": [
    "import optuna\n",
    "optuna.logging.set_verbosity(optuna.logging.WARNING)\n",
    "\n",
    "def objective(trial: optuna.Trial):\n",
    "    np.random.seed(3)\n",
    "    decay_rate = trial.suggest_float(\"decay_rate\", 0.95, 1.0)\n",
    "    regret = run_decay_simulation(decay_rate, oracle)\n",
    "    return np.cumsum(regret)[-1]\n",
    "\n",
    "study = optuna.create_study(direction=\"minimize\")\n",
    "study.optimize(objective, n_trials=50)"
   ]
  },
  {
   "cell_type": "code",
   "execution_count": 14,
   "metadata": {},
   "outputs": [
    {
     "data": {
      "text/plain": [
       "({'decay_rate': 0.9977635711577412}, 23283.771841564267)"
      ]
     },
     "execution_count": 14,
     "metadata": {},
     "output_type": "execute_result"
    }
   ],
   "source": [
    "# In case you want to get the whole regret array:\n",
    "#optimal_decay = study.best_params['decay_rate']\n",
    "#optimal_decay_regret = run_decay_simulation(decay_rate=optimal_decay, oracle=oracle)\n",
    "\n",
    "summary_of_regrets['Regret with drift and optimal decay rate'] = study.best_value\n",
    "\n",
    "study.best_params, study.best_value"
   ]
  },
  {
   "cell_type": "markdown",
   "metadata": {},
   "source": [
    "To show how a bad decay rate can hurt us, we'll also record the worst value obtained from the optuna trials.\n",
    "In this case, the worst decay rate is near 0.9, which shows that too much decay can be worse than no decay at all."
   ]
  },
  {
   "cell_type": "code",
   "execution_count": 15,
   "metadata": {},
   "outputs": [
    {
     "name": "stdout",
     "output_type": "stream",
     "text": [
      "Worst decay rate: 0.961\n"
     ]
    }
   ],
   "source": [
    "worst_trial = np.argmax([trial.values[0] for trial in study.trials])\n",
    "worst_decay_rate = study.trials[worst_trial].params['decay_rate']\n",
    "summary_of_regrets['Regret with drift and worst decay rate'] =  study.trials[worst_trial].values[0]\n",
    "print(f\"Worst decay rate: {worst_decay_rate:0.3f}\")"
   ]
  },
  {
   "cell_type": "markdown",
   "metadata": {},
   "source": [
    "Below is a table summary of the five different scenarios / strategies that we tried.\n",
    "As with many hyperparameters, choosing the right one can help us, but choosing the wrong one can hurt us. In this case, the worst decay rate gives much worse results than the case without any sort of decay.\n",
    "\n",
    "Note that there is a lot of variation between runs. If we wanted to deploy a strategy, we should run multiple runs with each strategy to verify the distribution of the results (check the median and some other percentiles)."
   ]
  },
  {
   "cell_type": "code",
   "execution_count": 16,
   "metadata": {},
   "outputs": [
    {
     "name": "stdout",
     "output_type": "stream",
     "text": [
      "Strategy                                  Regret\n",
      "--------------------------------------------------\n",
      "Regret without drift (and no decay)      21684.3\n",
      "Regret with drift and without decay      39599.6\n",
      "Regret with drift and a 0.999 decay rate      20643.6\n",
      "Regret with drift and optimal decay rate      23283.8\n",
      "Regret with drift and worst decay rate     347191.8\n",
      "--------------------------------------------------\n"
     ]
    }
   ],
   "source": [
    "print(f\"{'Strategy':<35} {'Regret':>12}\")\n",
    "print(\"-\" * 50)\n",
    "for strategy, regret in summary_of_regrets.items():\n",
    "    print(f\"{strategy:<35} {regret:>12.1f}\")\n",
    "print(\"-\" * 50)\n",
    "\n"
   ]
  }
 ],
 "metadata": {
  "kernelspec": {
   "display_name": ".venv",
   "language": "python",
   "name": "python3"
  },
  "language_info": {
   "codemirror_mode": {
    "name": "ipython",
    "version": 3
   },
   "file_extension": ".py",
   "mimetype": "text/x-python",
   "name": "python",
   "nbconvert_exporter": "python",
   "pygments_lexer": "ipython3",
   "version": "3.10.16"
  },
  "orig_nbformat": 4
 },
 "nbformat": 4,
 "nbformat_minor": 2
}
